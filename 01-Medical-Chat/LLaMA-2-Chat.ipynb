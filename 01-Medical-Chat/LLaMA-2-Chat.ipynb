{
 "cells": [
  {
   "cell_type": "code",
   "execution_count": 1,
   "id": "2ac25d29",
   "metadata": {
    "scrolled": true
   },
   "outputs": [],
   "source": [
    "from langchain.document_loaders import PyPDFLoader, DirectoryLoader\n",
    "from langchain import PromptTemplate\n",
    "from langchain.embeddings import HuggingFaceEmbeddings\n",
    "from langchain.vectorstores import FAISS\n",
    "from langchain.llms import CTransformers, ctransformers\n",
    "from langchain.chains import RetrievalQA\n",
    "\n",
    "import chainlit as cl\n",
    "\n",
    "from langchain.text_splitter import RecursiveCharacterTextSplitter "
   ]
  },
  {
   "cell_type": "code",
   "execution_count": 2,
   "id": "970c48ec",
   "metadata": {},
   "outputs": [
    {
     "name": "stdout",
     "output_type": "stream",
     "text": [
      "Sun Jul 30 23:00:15 2023       \n",
      "+---------------------------------------------------------------------------------------+\n",
      "| NVIDIA-SMI 536.67                 Driver Version: 536.67       CUDA Version: 12.2     |\n",
      "|-----------------------------------------+----------------------+----------------------+\n",
      "| GPU  Name                     TCC/WDDM  | Bus-Id        Disp.A | Volatile Uncorr. ECC |\n",
      "| Fan  Temp   Perf          Pwr:Usage/Cap |         Memory-Usage | GPU-Util  Compute M. |\n",
      "|                                         |                      |               MIG M. |\n",
      "|=========================================+======================+======================|\n",
      "|   0  NVIDIA GeForce RTX 3090      WDDM  | 00000000:01:00.0  On |                  N/A |\n",
      "| 33%   32C    P8              17W / 350W |    576MiB / 24576MiB |      3%      Default |\n",
      "|                                         |                      |                  N/A |\n",
      "+-----------------------------------------+----------------------+----------------------+\n",
      "                                                                                         \n",
      "+---------------------------------------------------------------------------------------+\n",
      "| Processes:                                                                            |\n",
      "|  GPU   GI   CI        PID   Type   Process name                            GPU Memory |\n",
      "|        ID   ID                                                             Usage      |\n",
      "|=======================================================================================|\n",
      "|    0   N/A  N/A      2632    C+G   ...Data\\Local\\Programs\\Opera\\opera.exe    N/A      |\n",
      "|    0   N/A  N/A      3252    C+G   ...oogle\\Chrome\\Application\\chrome.exe    N/A      |\n",
      "|    0   N/A  N/A      7200    C+G   ...al\\Discord\\app-1.0.9015\\Discord.exe    N/A      |\n",
      "|    0   N/A  N/A      7576    C+G   C:\\Windows\\explorer.exe                   N/A      |\n",
      "|    0   N/A  N/A     10052    C+G   ...nt.CBS_cw5n1h2txyewy\\SearchHost.exe    N/A      |\n",
      "|    0   N/A  N/A     10076    C+G   ...2txyewy\\StartMenuExperienceHost.exe    N/A      |\n",
      "|    0   N/A  N/A     10652    C+G   ...t.LockApp_cw5n1h2txyewy\\LockApp.exe    N/A      |\n",
      "|    0   N/A  N/A     13036    C+G   ...GeForce Experience\\NVIDIA Share.exe    N/A      |\n",
      "|    0   N/A  N/A     13788    C+G   ...ekyb3d8bbwe\\PhoneExperienceHost.exe    N/A      |\n",
      "|    0   N/A  N/A     13936    C+G   ...cal\\Microsoft\\OneDrive\\OneDrive.exe    N/A      |\n",
      "|    0   N/A  N/A     14840    C+G   ...crosoft\\Edge\\Application\\msedge.exe    N/A      |\n",
      "|    0   N/A  N/A     16680    C+G   ...CBS_cw5n1h2txyewy\\TextInputHost.exe    N/A      |\n",
      "|    0   N/A  N/A     18256    C+G   ...6778_x64__8wekyb3d8bbwe\\msteams.exe    N/A      |\n",
      "|    0   N/A  N/A     18552    C+G   ...n\\115.0.1901.188\\msedgewebview2.exe    N/A      |\n",
      "|    0   N/A  N/A     19600    C+G   ...__8wekyb3d8bbwe\\WindowsTerminal.exe    N/A      |\n",
      "+---------------------------------------------------------------------------------------+\n"
     ]
    }
   ],
   "source": [
    "!nvidia-smi"
   ]
  },
  {
   "cell_type": "code",
   "execution_count": 4,
   "id": "547094d2",
   "metadata": {},
   "outputs": [
    {
     "data": {
      "text/plain": [
       "'0.0.247'"
      ]
     },
     "execution_count": 4,
     "metadata": {},
     "output_type": "execute_result"
    }
   ],
   "source": [
    "# pip install langchain\n",
    "# import langchain\n",
    "langchain.__version__"
   ]
  },
  {
   "cell_type": "code",
   "execution_count": 2,
   "id": "5f3c0d29",
   "metadata": {},
   "outputs": [
    {
     "data": {
      "text/plain": [
       "'0.6.1'"
      ]
     },
     "execution_count": 2,
     "metadata": {},
     "output_type": "execute_result"
    }
   ],
   "source": [
    "# pip install chainlit\n",
    "cl.__version__"
   ]
  },
  {
   "cell_type": "code",
   "execution_count": 10,
   "id": "36573030",
   "metadata": {},
   "outputs": [],
   "source": [
    "# pip install sentence_transformers"
   ]
  },
  {
   "cell_type": "code",
   "execution_count": 4,
   "id": "4721f413",
   "metadata": {},
   "outputs": [
    {
     "data": {
      "text/plain": [
       "'3.14.0'"
      ]
     },
     "execution_count": 4,
     "metadata": {},
     "output_type": "execute_result"
    }
   ],
   "source": [
    "# pip install pypdf\n",
    "import pypdf\n",
    "pypdf.__version__"
   ]
  },
  {
   "cell_type": "code",
   "execution_count": 7,
   "id": "2d7434cf",
   "metadata": {},
   "outputs": [
    {
     "name": "stdout",
     "output_type": "stream",
     "text": [
      "Collecting faiss-cpuNote: you may need to restart the kernel to use updated packages.\n",
      "\n",
      "  Downloading faiss_cpu-1.7.4-cp311-cp311-win_amd64.whl (10.8 MB)\n",
      "                                              0.0/10.8 MB ? eta -:--:--\n",
      "                                              0.0/10.8 MB 1.9 MB/s eta 0:00:06\n",
      "                                              0.1/10.8 MB 1.1 MB/s eta 0:00:10\n",
      "                                             0.1/10.8 MB 871.5 kB/s eta 0:00:13\n",
      "                                             0.1/10.8 MB 819.2 kB/s eta 0:00:14\n",
      "                                             0.1/10.8 MB 654.9 kB/s eta 0:00:17\n",
      "                                             0.2/10.8 MB 653.6 kB/s eta 0:00:17\n",
      "                                             0.2/10.8 MB 655.1 kB/s eta 0:00:17\n",
      "                                             0.2/10.8 MB 715.9 kB/s eta 0:00:15\n",
      "     -                                       0.3/10.8 MB 737.3 kB/s eta 0:00:15\n",
      "     -                                       0.3/10.8 MB 752.2 kB/s eta 0:00:14\n",
      "     -                                       0.4/10.8 MB 764.2 kB/s eta 0:00:14\n",
      "     -                                       0.4/10.8 MB 774.0 kB/s eta 0:00:14\n",
      "     -                                       0.5/10.8 MB 782.1 kB/s eta 0:00:14\n",
      "     -                                       0.5/10.8 MB 755.4 kB/s eta 0:00:14\n",
      "     -                                       0.5/10.8 MB 748.1 kB/s eta 0:00:14\n",
      "     --                                      0.6/10.8 MB 770.9 kB/s eta 0:00:14\n",
      "     --                                      0.6/10.8 MB 805.5 kB/s eta 0:00:13\n",
      "     --                                      0.7/10.8 MB 822.3 kB/s eta 0:00:13\n",
      "     --                                      0.7/10.8 MB 825.0 kB/s eta 0:00:13\n",
      "     --                                      0.8/10.8 MB 839.0 kB/s eta 0:00:12\n",
      "     --                                      0.8/10.8 MB 851.5 kB/s eta 0:00:12\n",
      "     ---                                     0.9/10.8 MB 862.9 kB/s eta 0:00:12\n",
      "     ---                                     0.9/10.8 MB 853.3 kB/s eta 0:00:12\n",
      "     ---                                     1.0/10.8 MB 873.1 kB/s eta 0:00:12\n",
      "     ---                                     1.0/10.8 MB 882.9 kB/s eta 0:00:12\n",
      "     ---                                     1.1/10.8 MB 891.2 kB/s eta 0:00:11\n",
      "     ----                                    1.1/10.8 MB 907.2 kB/s eta 0:00:11\n",
      "     ----                                    1.2/10.8 MB 914.0 kB/s eta 0:00:11\n",
      "     ----                                    1.2/10.8 MB 931.6 kB/s eta 0:00:11\n",
      "     ----                                    1.3/10.8 MB 926.1 kB/s eta 0:00:11\n",
      "     ----                                    1.3/10.8 MB 938.8 kB/s eta 0:00:11\n",
      "     -----                                   1.4/10.8 MB 957.8 kB/s eta 0:00:10\n",
      "     -----                                   1.4/10.8 MB 965.4 kB/s eta 0:00:10\n",
      "     -----                                   1.5/10.8 MB 973.0 kB/s eta 0:00:10\n",
      "     -----                                   1.6/10.8 MB 976.5 kB/s eta 0:00:10\n",
      "     -----                                   1.6/10.8 MB 979.7 kB/s eta 0:00:10\n",
      "     ------                                  1.7/10.8 MB 994.9 kB/s eta 0:00:10\n",
      "     ------                                   1.8/10.8 MB 1.0 MB/s eta 0:00:09\n",
      "     ------                                   1.8/10.8 MB 1.0 MB/s eta 0:00:09\n",
      "     ------                                   1.9/10.8 MB 1.0 MB/s eta 0:00:09\n",
      "     -------                                  1.9/10.8 MB 1.0 MB/s eta 0:00:09\n",
      "     -------                                  2.0/10.8 MB 1.0 MB/s eta 0:00:09\n",
      "     -------                                  2.1/10.8 MB 1.0 MB/s eta 0:00:09\n",
      "     -------                                  2.1/10.8 MB 1.1 MB/s eta 0:00:09\n",
      "     --------                                 2.2/10.8 MB 1.1 MB/s eta 0:00:09\n",
      "     --------                                 2.3/10.8 MB 1.1 MB/s eta 0:00:08\n",
      "     --------                                 2.4/10.8 MB 1.1 MB/s eta 0:00:08\n",
      "     ---------                                2.4/10.8 MB 1.1 MB/s eta 0:00:08\n",
      "     ---------                                2.5/10.8 MB 1.1 MB/s eta 0:00:08\n",
      "     ---------                                2.6/10.8 MB 1.1 MB/s eta 0:00:08\n",
      "     ---------                                2.7/10.8 MB 1.1 MB/s eta 0:00:08\n",
      "     ----------                               2.7/10.8 MB 1.2 MB/s eta 0:00:07\n",
      "     ----------                               2.8/10.8 MB 1.2 MB/s eta 0:00:07\n",
      "     ----------                               2.9/10.8 MB 1.2 MB/s eta 0:00:07\n",
      "     ----------                               2.9/10.8 MB 1.2 MB/s eta 0:00:07\n",
      "     -----------                              3.1/10.8 MB 1.2 MB/s eta 0:00:07\n",
      "     -----------                              3.1/10.8 MB 1.2 MB/s eta 0:00:07\n",
      "     -----------                              3.2/10.8 MB 1.2 MB/s eta 0:00:07\n",
      "     -----------                              3.2/10.8 MB 1.2 MB/s eta 0:00:07\n",
      "     ------------                             3.3/10.8 MB 1.2 MB/s eta 0:00:07\n",
      "     ------------                             3.4/10.8 MB 1.2 MB/s eta 0:00:07\n",
      "     ------------                             3.4/10.8 MB 1.2 MB/s eta 0:00:07\n",
      "     ------------                             3.5/10.8 MB 1.2 MB/s eta 0:00:07\n",
      "     -------------                            3.6/10.8 MB 1.2 MB/s eta 0:00:07\n",
      "     -------------                            3.6/10.8 MB 1.2 MB/s eta 0:00:06\n",
      "     -------------                            3.7/10.8 MB 1.2 MB/s eta 0:00:06\n",
      "     -------------                            3.8/10.8 MB 1.2 MB/s eta 0:00:06\n",
      "     --------------                           3.8/10.8 MB 1.2 MB/s eta 0:00:06\n",
      "     --------------                           3.9/10.8 MB 1.2 MB/s eta 0:00:06\n",
      "     --------------                           4.0/10.8 MB 1.2 MB/s eta 0:00:06\n",
      "     ---------------                          4.1/10.8 MB 1.2 MB/s eta 0:00:06\n",
      "     ---------------                          4.1/10.8 MB 1.2 MB/s eta 0:00:06\n",
      "     ---------------                          4.2/10.8 MB 1.2 MB/s eta 0:00:06\n",
      "     ---------------                          4.3/10.8 MB 1.2 MB/s eta 0:00:06\n",
      "     ----------------                         4.3/10.8 MB 1.2 MB/s eta 0:00:06\n",
      "     ----------------                         4.4/10.8 MB 1.3 MB/s eta 0:00:06\n",
      "     ----------------                         4.5/10.8 MB 1.3 MB/s eta 0:00:06\n",
      "     ----------------                         4.6/10.8 MB 1.3 MB/s eta 0:00:05\n",
      "     -----------------                        4.6/10.8 MB 1.3 MB/s eta 0:00:05\n",
      "     -----------------                        4.7/10.8 MB 1.3 MB/s eta 0:00:05\n",
      "     -----------------                        4.8/10.8 MB 1.3 MB/s eta 0:00:05\n",
      "     ------------------                       4.9/10.8 MB 1.3 MB/s eta 0:00:05\n",
      "     ------------------                       5.0/10.8 MB 1.3 MB/s eta 0:00:05\n",
      "     ------------------                       5.1/10.8 MB 1.3 MB/s eta 0:00:05\n",
      "     -------------------                      5.1/10.8 MB 1.3 MB/s eta 0:00:05\n",
      "     -------------------                      5.2/10.8 MB 1.3 MB/s eta 0:00:05\n",
      "     -------------------                      5.3/10.8 MB 1.3 MB/s eta 0:00:05\n",
      "     --------------------                     5.4/10.8 MB 1.3 MB/s eta 0:00:05\n",
      "     --------------------                     5.5/10.8 MB 1.3 MB/s eta 0:00:04\n",
      "     --------------------                     5.6/10.8 MB 1.3 MB/s eta 0:00:04\n",
      "     ---------------------                    5.7/10.8 MB 1.4 MB/s eta 0:00:04\n",
      "     ---------------------                    5.8/10.8 MB 1.4 MB/s eta 0:00:04\n",
      "     ---------------------                    5.9/10.8 MB 1.4 MB/s eta 0:00:04\n",
      "     ----------------------                   6.0/10.8 MB 1.4 MB/s eta 0:00:04\n",
      "     ----------------------                   6.0/10.8 MB 1.4 MB/s eta 0:00:04\n",
      "     ----------------------                   6.2/10.8 MB 1.4 MB/s eta 0:00:04\n",
      "     -----------------------                  6.2/10.8 MB 1.4 MB/s eta 0:00:04\n",
      "     -----------------------                  6.3/10.8 MB 1.4 MB/s eta 0:00:04\n",
      "     -----------------------                  6.5/10.8 MB 1.4 MB/s eta 0:00:04\n",
      "     ------------------------                 6.6/10.8 MB 1.4 MB/s eta 0:00:03\n",
      "     ------------------------                 6.6/10.8 MB 1.4 MB/s eta 0:00:03\n",
      "     -------------------------                6.7/10.8 MB 1.4 MB/s eta 0:00:03\n",
      "     -------------------------                6.8/10.8 MB 1.4 MB/s eta 0:00:03\n",
      "     -------------------------                7.0/10.8 MB 1.4 MB/s eta 0:00:03\n",
      "     --------------------------               7.1/10.8 MB 1.5 MB/s eta 0:00:03\n",
      "     --------------------------               7.2/10.8 MB 1.5 MB/s eta 0:00:03\n",
      "     ---------------------------              7.3/10.8 MB 1.5 MB/s eta 0:00:03\n",
      "     ---------------------------              7.4/10.8 MB 1.5 MB/s eta 0:00:03\n",
      "     ---------------------------              7.5/10.8 MB 1.5 MB/s eta 0:00:03\n",
      "     ----------------------------             7.6/10.8 MB 1.5 MB/s eta 0:00:03\n",
      "     ----------------------------             7.7/10.8 MB 1.5 MB/s eta 0:00:03\n",
      "     ----------------------------             7.8/10.8 MB 1.5 MB/s eta 0:00:02\n",
      "     -----------------------------            7.9/10.8 MB 1.5 MB/s eta 0:00:02\n",
      "     -----------------------------            8.0/10.8 MB 1.5 MB/s eta 0:00:02\n",
      "     ------------------------------           8.1/10.8 MB 1.5 MB/s eta 0:00:02\n",
      "     ------------------------------           8.2/10.8 MB 1.5 MB/s eta 0:00:02\n",
      "     ------------------------------           8.3/10.8 MB 1.5 MB/s eta 0:00:02\n",
      "     -------------------------------          8.4/10.8 MB 1.5 MB/s eta 0:00:02\n",
      "     -------------------------------          8.6/10.8 MB 1.6 MB/s eta 0:00:02\n",
      "     --------------------------------         8.6/10.8 MB 1.6 MB/s eta 0:00:02\n",
      "     --------------------------------         8.8/10.8 MB 1.6 MB/s eta 0:00:02\n",
      "     ---------------------------------        8.9/10.8 MB 1.6 MB/s eta 0:00:02\n",
      "     ---------------------------------        9.0/10.8 MB 1.6 MB/s eta 0:00:02\n",
      "     ----------------------------------       9.2/10.8 MB 1.6 MB/s eta 0:00:02\n",
      "     ----------------------------------       9.3/10.8 MB 1.6 MB/s eta 0:00:01\n",
      "     ----------------------------------       9.4/10.8 MB 1.6 MB/s eta 0:00:01\n",
      "     -----------------------------------      9.5/10.8 MB 1.6 MB/s eta 0:00:01\n",
      "     -----------------------------------      9.6/10.8 MB 1.6 MB/s eta 0:00:01\n",
      "     ------------------------------------     9.7/10.8 MB 1.6 MB/s eta 0:00:01\n",
      "     ------------------------------------     9.9/10.8 MB 1.6 MB/s eta 0:00:01\n",
      "     -------------------------------------    10.0/10.8 MB 1.6 MB/s eta 0:00:01\n",
      "     -------------------------------------    10.0/10.8 MB 1.6 MB/s eta 0:00:01\n",
      "     -------------------------------------    10.2/10.8 MB 1.7 MB/s eta 0:00:01\n",
      "     --------------------------------------   10.3/10.8 MB 1.7 MB/s eta 0:00:01\n",
      "     --------------------------------------   10.4/10.8 MB 1.7 MB/s eta 0:00:01\n",
      "     ---------------------------------------  10.5/10.8 MB 1.7 MB/s eta 0:00:01\n",
      "     ---------------------------------------  10.6/10.8 MB 1.8 MB/s eta 0:00:01\n",
      "     ---------------------------------------  10.8/10.8 MB 1.8 MB/s eta 0:00:01\n",
      "     ---------------------------------------- 10.8/10.8 MB 1.8 MB/s eta 0:00:00\n",
      "Installing collected packages: faiss-cpu\n",
      "Successfully installed faiss-cpu-1.7.4\n"
     ]
    }
   ],
   "source": [
    "# pip install faiss-cpu\n",
    "# import faiss-cpu\n",
    "# faiss-cpu == 1.7.4"
   ]
  },
  {
   "cell_type": "code",
   "execution_count": 28,
   "id": "4d1a6fb3",
   "metadata": {},
   "outputs": [
    {
     "name": "stdout",
     "output_type": "stream",
     "text": [
      "Requirement already satisfied: transformers in c:\\users\\vibud\\miniconda3\\lib\\site-packages (4.31.0)\n",
      "Requirement already satisfied: filelock in c:\\users\\vibud\\miniconda3\\lib\\site-packages (from transformers) (3.12.2)\n",
      "Requirement already satisfied: huggingface-hub<1.0,>=0.14.1 in c:\\users\\vibud\\miniconda3\\lib\\site-packages (from transformers) (0.16.4)\n",
      "Requirement already satisfied: numpy>=1.17 in c:\\users\\vibud\\miniconda3\\lib\\site-packages (from transformers) (1.25.1)\n",
      "Requirement already satisfied: packaging>=20.0 in c:\\users\\vibud\\miniconda3\\lib\\site-packages (from transformers) (23.0)\n",
      "Requirement already satisfied: pyyaml>=5.1 in c:\\users\\vibud\\miniconda3\\lib\\site-packages (from transformers) (6.0)\n",
      "Requirement already satisfied: regex!=2019.12.17 in c:\\users\\vibud\\miniconda3\\lib\\site-packages (from transformers) (2023.6.3)\n",
      "Requirement already satisfied: requests in c:\\users\\vibud\\miniconda3\\lib\\site-packages (from transformers) (2.29.0)\n",
      "Requirement already satisfied: tokenizers!=0.11.3,<0.14,>=0.11.1 in c:\\users\\vibud\\miniconda3\\lib\\site-packages (from transformers) (0.13.3)\n",
      "Requirement already satisfied: safetensors>=0.3.1 in c:\\users\\vibud\\miniconda3\\lib\\site-packages (from transformers) (0.3.1)\n",
      "Requirement already satisfied: tqdm>=4.27 in c:\\users\\vibud\\miniconda3\\lib\\site-packages (from transformers) (4.65.0)\n",
      "Requirement already satisfied: fsspec in c:\\users\\vibud\\miniconda3\\lib\\site-packages (from huggingface-hub<1.0,>=0.14.1->transformers) (2023.6.0)\n",
      "Requirement already satisfied: typing-extensions>=3.7.4.3 in c:\\users\\vibud\\miniconda3\\lib\\site-packages (from huggingface-hub<1.0,>=0.14.1->transformers) (4.7.1)\n",
      "Requirement already satisfied: colorama in c:\\users\\vibud\\miniconda3\\lib\\site-packages (from tqdm>=4.27->transformers) (0.4.6)\n",
      "Requirement already satisfied: charset-normalizer<4,>=2 in c:\\users\\vibud\\miniconda3\\lib\\site-packages (from requests->transformers) (2.0.4)\n",
      "Requirement already satisfied: idna<4,>=2.5 in c:\\users\\vibud\\miniconda3\\lib\\site-packages (from requests->transformers) (3.4)\n",
      "Requirement already satisfied: urllib3<1.27,>=1.21.1 in c:\\users\\vibud\\miniconda3\\lib\\site-packages (from requests->transformers) (1.26.16)\n",
      "Requirement already satisfied: certifi>=2017.4.17 in c:\\users\\vibud\\miniconda3\\lib\\site-packages (from requests->transformers) (2023.7.22)\n",
      "Note: you may need to restart the kernel to use updated packages.\n"
     ]
    }
   ],
   "source": [
    "pip install transformers"
   ]
  },
  {
   "cell_type": "code",
   "execution_count": 29,
   "id": "563b4606",
   "metadata": {},
   "outputs": [
    {
     "data": {
      "text/plain": [
       "'4.31.0'"
      ]
     },
     "execution_count": 29,
     "metadata": {},
     "output_type": "execute_result"
    }
   ],
   "source": [
    "import transformers\n",
    "transformers.__version__"
   ]
  },
  {
   "cell_type": "code",
   "execution_count": 10,
   "id": "0ba81514",
   "metadata": {},
   "outputs": [
    {
     "name": "stdout",
     "output_type": "stream",
     "text": [
      "Collecting ctransformers\n",
      "  Downloading ctransformers-0.2.16-py3-none-any.whl (6.5 MB)\n",
      "                                              0.0/6.5 MB ? eta -:--:--\n",
      "                                              0.0/6.5 MB ? eta -:--:--\n",
      "                                              0.1/6.5 MB 2.0 MB/s eta 0:00:04\n",
      "                                              0.1/6.5 MB 1.2 MB/s eta 0:00:06\n",
      "     -                                        0.2/6.5 MB 1.3 MB/s eta 0:00:05\n",
      "     -                                        0.2/6.5 MB 1.3 MB/s eta 0:00:06\n",
      "     -                                        0.3/6.5 MB 1.2 MB/s eta 0:00:06\n",
      "     --                                       0.3/6.5 MB 1.2 MB/s eta 0:00:06\n",
      "     --                                       0.4/6.5 MB 1.2 MB/s eta 0:00:06\n",
      "     --                                       0.4/6.5 MB 1.2 MB/s eta 0:00:06\n",
      "     ---                                      0.5/6.5 MB 1.2 MB/s eta 0:00:06\n",
      "     ---                                      0.5/6.5 MB 1.2 MB/s eta 0:00:06\n",
      "     ---                                      0.6/6.5 MB 1.2 MB/s eta 0:00:05\n",
      "     ----                                     0.7/6.5 MB 1.2 MB/s eta 0:00:05\n",
      "     ----                                     0.7/6.5 MB 1.2 MB/s eta 0:00:05\n",
      "     ----                                     0.8/6.5 MB 1.2 MB/s eta 0:00:05\n",
      "     -----                                    0.9/6.5 MB 1.2 MB/s eta 0:00:05\n",
      "     -----                                    0.9/6.5 MB 1.2 MB/s eta 0:00:05\n",
      "     ------                                   1.0/6.5 MB 1.3 MB/s eta 0:00:05\n",
      "     ------                                   1.1/6.5 MB 1.3 MB/s eta 0:00:05\n",
      "     ------                                   1.1/6.5 MB 1.3 MB/s eta 0:00:05\n",
      "     -------                                  1.2/6.5 MB 1.3 MB/s eta 0:00:05\n",
      "     -------                                  1.3/6.5 MB 1.3 MB/s eta 0:00:05\n",
      "     -------                                  1.3/6.5 MB 1.3 MB/s eta 0:00:05\n",
      "     --------                                 1.4/6.5 MB 1.3 MB/s eta 0:00:05\n",
      "     --------                                 1.4/6.5 MB 1.3 MB/s eta 0:00:04\n",
      "     ---------                                1.5/6.5 MB 1.3 MB/s eta 0:00:04\n",
      "     ---------                                1.6/6.5 MB 1.3 MB/s eta 0:00:04\n",
      "     ----------                               1.7/6.5 MB 1.3 MB/s eta 0:00:04\n",
      "     ----------                               1.7/6.5 MB 1.3 MB/s eta 0:00:04\n",
      "     -----------                              1.8/6.5 MB 1.3 MB/s eta 0:00:04\n",
      "     -----------                              1.9/6.5 MB 1.4 MB/s eta 0:00:04\n",
      "     ------------                             2.0/6.5 MB 1.4 MB/s eta 0:00:04\n",
      "     ------------                             2.0/6.5 MB 1.4 MB/s eta 0:00:04\n",
      "     -------------                            2.1/6.5 MB 1.4 MB/s eta 0:00:04\n",
      "     -------------                            2.2/6.5 MB 1.4 MB/s eta 0:00:04\n",
      "     -------------                            2.3/6.5 MB 1.4 MB/s eta 0:00:04\n",
      "     --------------                           2.4/6.5 MB 1.4 MB/s eta 0:00:03\n",
      "     ---------------                          2.5/6.5 MB 1.4 MB/s eta 0:00:03\n",
      "     ---------------                          2.5/6.5 MB 1.4 MB/s eta 0:00:03\n",
      "     ----------------                         2.6/6.5 MB 1.4 MB/s eta 0:00:03\n",
      "     ----------------                         2.7/6.5 MB 1.5 MB/s eta 0:00:03\n",
      "     -----------------                        2.8/6.5 MB 1.5 MB/s eta 0:00:03\n",
      "     -----------------                        2.9/6.5 MB 1.5 MB/s eta 0:00:03\n",
      "     ------------------                       3.0/6.5 MB 1.5 MB/s eta 0:00:03\n",
      "     ------------------                       3.0/6.5 MB 1.5 MB/s eta 0:00:03\n",
      "     ------------------                       3.1/6.5 MB 1.5 MB/s eta 0:00:03\n",
      "     -------------------                      3.1/6.5 MB 1.5 MB/s eta 0:00:03\n",
      "     -------------------                      3.2/6.5 MB 1.5 MB/s eta 0:00:03\n",
      "     --------------------                     3.3/6.5 MB 1.5 MB/s eta 0:00:03\n",
      "     --------------------                     3.3/6.5 MB 1.5 MB/s eta 0:00:03\n",
      "     --------------------                     3.4/6.5 MB 1.5 MB/s eta 0:00:03\n",
      "     ---------------------                    3.5/6.5 MB 1.5 MB/s eta 0:00:03\n",
      "     ---------------------                    3.5/6.5 MB 1.5 MB/s eta 0:00:03\n",
      "     ----------------------                   3.6/6.5 MB 1.5 MB/s eta 0:00:02\n",
      "     ----------------------                   3.7/6.5 MB 1.5 MB/s eta 0:00:02\n",
      "     -----------------------                  3.8/6.5 MB 1.5 MB/s eta 0:00:02\n",
      "     -----------------------                  3.8/6.5 MB 1.5 MB/s eta 0:00:02\n",
      "     ------------------------                 3.9/6.5 MB 1.5 MB/s eta 0:00:02\n",
      "     ------------------------                 4.0/6.5 MB 1.5 MB/s eta 0:00:02\n",
      "     -------------------------                4.1/6.5 MB 1.5 MB/s eta 0:00:02\n",
      "     -------------------------                4.2/6.5 MB 1.5 MB/s eta 0:00:02\n",
      "     --------------------------               4.3/6.5 MB 1.5 MB/s eta 0:00:02\n",
      "     --------------------------               4.3/6.5 MB 1.5 MB/s eta 0:00:02\n",
      "     ---------------------------              4.4/6.5 MB 1.5 MB/s eta 0:00:02\n",
      "     ---------------------------              4.5/6.5 MB 1.5 MB/s eta 0:00:02\n",
      "     ----------------------------             4.6/6.5 MB 1.5 MB/s eta 0:00:02\n",
      "     ----------------------------             4.6/6.5 MB 1.5 MB/s eta 0:00:02\n",
      "     ----------------------------             4.7/6.5 MB 1.5 MB/s eta 0:00:02\n",
      "     -----------------------------            4.8/6.5 MB 1.5 MB/s eta 0:00:02\n",
      "     -----------------------------            4.9/6.5 MB 1.5 MB/s eta 0:00:02\n",
      "     ------------------------------           5.0/6.5 MB 1.5 MB/s eta 0:00:02\n",
      "     -------------------------------          5.1/6.5 MB 1.5 MB/s eta 0:00:01\n",
      "     -------------------------------          5.2/6.5 MB 1.5 MB/s eta 0:00:01\n",
      "     --------------------------------         5.3/6.5 MB 1.5 MB/s eta 0:00:01\n",
      "     --------------------------------         5.4/6.5 MB 1.6 MB/s eta 0:00:01\n",
      "     ---------------------------------        5.4/6.5 MB 1.6 MB/s eta 0:00:01\n",
      "     ----------------------------------       5.5/6.5 MB 1.6 MB/s eta 0:00:01\n",
      "     ----------------------------------       5.6/6.5 MB 1.6 MB/s eta 0:00:01\n",
      "     ----------------------------------       5.7/6.5 MB 1.6 MB/s eta 0:00:01\n",
      "     -----------------------------------      5.8/6.5 MB 1.6 MB/s eta 0:00:01\n",
      "     ------------------------------------     5.9/6.5 MB 1.6 MB/s eta 0:00:01\n",
      "     ------------------------------------     6.0/6.5 MB 1.6 MB/s eta 0:00:01\n",
      "     -------------------------------------    6.1/6.5 MB 1.6 MB/s eta 0:00:01\n",
      "     --------------------------------------   6.2/6.5 MB 1.6 MB/s eta 0:00:01\n",
      "     --------------------------------------   6.3/6.5 MB 1.6 MB/s eta 0:00:01\n",
      "     ---------------------------------------  6.5/6.5 MB 1.6 MB/s eta 0:00:01\n",
      "     ---------------------------------------- 6.5/6.5 MB 1.6 MB/s eta 0:00:00\n",
      "Requirement already satisfied: huggingface-hub in c:\\users\\vibud\\miniconda3\\lib\\site-packages (from ctransformers) (0.16.4)\n",
      "Collecting py-cpuinfo<10.0.0,>=9.0.0 (from ctransformers)\n",
      "  Downloading py_cpuinfo-9.0.0-py3-none-any.whl (22 kB)\n",
      "Requirement already satisfied: filelock in c:\\users\\vibud\\miniconda3\\lib\\site-packages (from huggingface-hub->ctransformers) (3.12.2)\n",
      "Requirement already satisfied: fsspec in c:\\users\\vibud\\miniconda3\\lib\\site-packages (from huggingface-hub->ctransformers) (2023.6.0)\n",
      "Requirement already satisfied: requests in c:\\users\\vibud\\miniconda3\\lib\\site-packages (from huggingface-hub->ctransformers) (2.29.0)\n",
      "Requirement already satisfied: tqdm>=4.42.1 in c:\\users\\vibud\\miniconda3\\lib\\site-packages (from huggingface-hub->ctransformers) (4.65.0)\n",
      "Requirement already satisfied: pyyaml>=5.1 in c:\\users\\vibud\\miniconda3\\lib\\site-packages (from huggingface-hub->ctransformers) (6.0)\n",
      "Requirement already satisfied: typing-extensions>=3.7.4.3 in c:\\users\\vibud\\miniconda3\\lib\\site-packages (from huggingface-hub->ctransformers) (4.7.1)\n",
      "Requirement already satisfied: packaging>=20.9 in c:\\users\\vibud\\miniconda3\\lib\\site-packages (from huggingface-hub->ctransformers) (23.0)\n",
      "Requirement already satisfied: colorama in c:\\users\\vibud\\miniconda3\\lib\\site-packages (from tqdm>=4.42.1->huggingface-hub->ctransformers) (0.4.6)\n",
      "Requirement already satisfied: charset-normalizer<4,>=2 in c:\\users\\vibud\\miniconda3\\lib\\site-packages (from requests->huggingface-hub->ctransformers) (2.0.4)\n",
      "Requirement already satisfied: idna<4,>=2.5 in c:\\users\\vibud\\miniconda3\\lib\\site-packages (from requests->huggingface-hub->ctransformers) (3.4)\n",
      "Requirement already satisfied: urllib3<1.27,>=1.21.1 in c:\\users\\vibud\\miniconda3\\lib\\site-packages (from requests->huggingface-hub->ctransformers) (1.26.16)\n",
      "Requirement already satisfied: certifi>=2017.4.17 in c:\\users\\vibud\\miniconda3\\lib\\site-packages (from requests->huggingface-hub->ctransformers) (2023.7.22)\n",
      "Installing collected packages: py-cpuinfo, ctransformers\n",
      "Successfully installed ctransformers-0.2.16 py-cpuinfo-9.0.0\n",
      "Note: you may need to restart the kernel to use updated packages.\n"
     ]
    }
   ],
   "source": [
    "pip install ctransformers"
   ]
  },
  {
   "cell_type": "code",
   "execution_count": 12,
   "id": "1ec87212",
   "metadata": {},
   "outputs": [
    {
     "ename": "AttributeError",
     "evalue": "module 'ctransformers' has no attribute '__version__'",
     "output_type": "error",
     "traceback": [
      "\u001b[1;31m---------------------------------------------------------------------------\u001b[0m",
      "\u001b[1;31mAttributeError\u001b[0m                            Traceback (most recent call last)",
      "Cell \u001b[1;32mIn[12], line 2\u001b[0m\n\u001b[0;32m      1\u001b[0m \u001b[38;5;28;01mimport\u001b[39;00m \u001b[38;5;21;01mctransformers\u001b[39;00m\n\u001b[1;32m----> 2\u001b[0m ctransformers\u001b[38;5;241m.\u001b[39m__version__\n",
      "\u001b[1;31mAttributeError\u001b[0m: module 'ctransformers' has no attribute '__version__'"
     ]
    }
   ],
   "source": [
    "# import ctransformers\n",
    "# ctransformers.__version__"
   ]
  },
  {
   "cell_type": "code",
   "execution_count": 4,
   "id": "862c9033",
   "metadata": {},
   "outputs": [],
   "source": [
    "# !nvidia-smi"
   ]
  },
  {
   "cell_type": "code",
   "execution_count": 3,
   "id": "286dc352",
   "metadata": {},
   "outputs": [],
   "source": [
    "DATA_PATH = 'data/'\n",
    "DB_FAISS_PATH = 'vectorstore/db_faiss'"
   ]
  },
  {
   "cell_type": "code",
   "execution_count": 3,
   "id": "ecb8f641",
   "metadata": {},
   "outputs": [
    {
     "name": "stdout",
     "output_type": "stream",
     "text": [
      "2023-07-30 22:41:48 - Load pretrained SentenceTransformer: sentence-transformers/all-MiniLM-L6-v2\n",
      "2023-07-30 22:41:49 - Use pytorch device: cpu\n"
     ]
    },
    {
     "data": {
      "application/vnd.jupyter.widget-view+json": {
       "model_id": "6b4fb02375a640c581d5e5e6720a475e",
       "version_major": 2,
       "version_minor": 0
      },
      "text/plain": [
       "Batches:   0%|          | 0/224 [00:00<?, ?it/s]"
      ]
     },
     "metadata": {},
     "output_type": "display_data"
    },
    {
     "name": "stdout",
     "output_type": "stream",
     "text": [
      "2023-07-30 22:46:08 - Loading faiss with AVX2 support.\n",
      "2023-07-30 22:46:08 - Could not load library with AVX2 support due to:\n",
      "ModuleNotFoundError(\"No module named 'faiss.swigfaiss_avx2'\")\n",
      "2023-07-30 22:46:08 - Loading faiss.\n",
      "2023-07-30 22:46:08 - Successfully loaded faiss.\n"
     ]
    }
   ],
   "source": [
    "\n",
    "\n",
    "# Create vector database\n",
    "def create_vector_db():\n",
    "    loader = DirectoryLoader(DATA_PATH,\n",
    "                             glob='*.pdf',\n",
    "                             loader_cls=PyPDFLoader)\n",
    "\n",
    "    documents = loader.load()\n",
    "    text_splitter = RecursiveCharacterTextSplitter(chunk_size=500,\n",
    "                                                   chunk_overlap=50)\n",
    "    texts = text_splitter.split_documents(documents)\n",
    "\n",
    "    embeddings = HuggingFaceEmbeddings(model_name='sentence-transformers/all-MiniLM-L6-v2')\n",
    "#                                        ,model_kwargs={'device': 'cpu'})\n",
    "\n",
    "    db = FAISS.from_documents(texts, embeddings)\n",
    "    db.save_local(DB_FAISS_PATH)\n",
    "\n",
    "# create_vector_db()"
   ]
  },
  {
   "cell_type": "code",
   "execution_count": 8,
   "id": "f624d5ab",
   "metadata": {},
   "outputs": [
    {
     "name": "stdout",
     "output_type": "stream",
     "text": [
      "2023-07-30 21:41:21 - Load pretrained SentenceTransformer: sentence-transformers/all-MiniLM-L6-v2\n"
     ]
    },
    {
     "data": {
      "application/vnd.jupyter.widget-view+json": {
       "model_id": "8b23d159754e479889c875901f8a36cd",
       "version_major": 2,
       "version_minor": 0
      },
      "text/plain": [
       "Downloading (…)e9125/.gitattributes:   0%|          | 0.00/1.18k [00:00<?, ?B/s]"
      ]
     },
     "metadata": {},
     "output_type": "display_data"
    },
    {
     "data": {
      "application/vnd.jupyter.widget-view+json": {
       "model_id": "4a17ce62053d4e05ad765807e1634a4c",
       "version_major": 2,
       "version_minor": 0
      },
      "text/plain": [
       "Downloading (…)_Pooling/config.json:   0%|          | 0.00/190 [00:00<?, ?B/s]"
      ]
     },
     "metadata": {},
     "output_type": "display_data"
    },
    {
     "data": {
      "application/vnd.jupyter.widget-view+json": {
       "model_id": "1a9ba56bfef54bb58323a3e12b28b361",
       "version_major": 2,
       "version_minor": 0
      },
      "text/plain": [
       "Downloading (…)7e55de9125/README.md:   0%|          | 0.00/10.6k [00:00<?, ?B/s]"
      ]
     },
     "metadata": {},
     "output_type": "display_data"
    },
    {
     "data": {
      "application/vnd.jupyter.widget-view+json": {
       "model_id": "026d79c4ac0847c382bcd971d8af26ca",
       "version_major": 2,
       "version_minor": 0
      },
      "text/plain": [
       "Downloading (…)55de9125/config.json:   0%|          | 0.00/612 [00:00<?, ?B/s]"
      ]
     },
     "metadata": {},
     "output_type": "display_data"
    },
    {
     "data": {
      "application/vnd.jupyter.widget-view+json": {
       "model_id": "62b685a1ed7a44eea5726a8adec014bd",
       "version_major": 2,
       "version_minor": 0
      },
      "text/plain": [
       "Downloading (…)ce_transformers.json:   0%|          | 0.00/116 [00:00<?, ?B/s]"
      ]
     },
     "metadata": {},
     "output_type": "display_data"
    },
    {
     "data": {
      "application/vnd.jupyter.widget-view+json": {
       "model_id": "874ed1fd867b44a3bb16524801b45f7c",
       "version_major": 2,
       "version_minor": 0
      },
      "text/plain": [
       "Downloading (…)125/data_config.json:   0%|          | 0.00/39.3k [00:00<?, ?B/s]"
      ]
     },
     "metadata": {},
     "output_type": "display_data"
    },
    {
     "data": {
      "application/vnd.jupyter.widget-view+json": {
       "model_id": "3f78f3f89c9a4578bd7b8e9e512d0ce3",
       "version_major": 2,
       "version_minor": 0
      },
      "text/plain": [
       "Downloading pytorch_model.bin:   0%|          | 0.00/90.9M [00:00<?, ?B/s]"
      ]
     },
     "metadata": {},
     "output_type": "display_data"
    },
    {
     "data": {
      "application/vnd.jupyter.widget-view+json": {
       "model_id": "ae17e6229b3d41449a47b43e3c3d5eec",
       "version_major": 2,
       "version_minor": 0
      },
      "text/plain": [
       "Downloading (…)nce_bert_config.json:   0%|          | 0.00/53.0 [00:00<?, ?B/s]"
      ]
     },
     "metadata": {},
     "output_type": "display_data"
    },
    {
     "data": {
      "application/vnd.jupyter.widget-view+json": {
       "model_id": "b421a7d0f68e475da62e9cf534c31fd3",
       "version_major": 2,
       "version_minor": 0
      },
      "text/plain": [
       "Downloading (…)cial_tokens_map.json:   0%|          | 0.00/112 [00:00<?, ?B/s]"
      ]
     },
     "metadata": {},
     "output_type": "display_data"
    },
    {
     "data": {
      "application/vnd.jupyter.widget-view+json": {
       "model_id": "cdc8076d87764cecac9bb34c9f9e1ed8",
       "version_major": 2,
       "version_minor": 0
      },
      "text/plain": [
       "Downloading (…)e9125/tokenizer.json:   0%|          | 0.00/466k [00:00<?, ?B/s]"
      ]
     },
     "metadata": {},
     "output_type": "display_data"
    },
    {
     "data": {
      "application/vnd.jupyter.widget-view+json": {
       "model_id": "2e9c08df5d824738bbd9140c9d59a139",
       "version_major": 2,
       "version_minor": 0
      },
      "text/plain": [
       "Downloading (…)okenizer_config.json:   0%|          | 0.00/350 [00:00<?, ?B/s]"
      ]
     },
     "metadata": {},
     "output_type": "display_data"
    },
    {
     "data": {
      "application/vnd.jupyter.widget-view+json": {
       "model_id": "acfda372f21e42e497a59f0faddf4dae",
       "version_major": 2,
       "version_minor": 0
      },
      "text/plain": [
       "Downloading (…)9125/train_script.py:   0%|          | 0.00/13.2k [00:00<?, ?B/s]"
      ]
     },
     "metadata": {},
     "output_type": "display_data"
    },
    {
     "data": {
      "application/vnd.jupyter.widget-view+json": {
       "model_id": "a529b06a08b746a39687e0c30bb780a3",
       "version_major": 2,
       "version_minor": 0
      },
      "text/plain": [
       "Downloading (…)7e55de9125/vocab.txt:   0%|          | 0.00/232k [00:00<?, ?B/s]"
      ]
     },
     "metadata": {},
     "output_type": "display_data"
    },
    {
     "data": {
      "application/vnd.jupyter.widget-view+json": {
       "model_id": "f2bfbc0a9b10482eab4409e342538c30",
       "version_major": 2,
       "version_minor": 0
      },
      "text/plain": [
       "Downloading (…)5de9125/modules.json:   0%|          | 0.00/349 [00:00<?, ?B/s]"
      ]
     },
     "metadata": {},
     "output_type": "display_data"
    }
   ],
   "source": [
    "# embeddings = HuggingFaceEmbeddings(model_name='sentence-transformers/all-MiniLM-L6-v2',\n",
    "#                                        model_kwargs={'device': 'cpu'})"
   ]
  },
  {
   "cell_type": "code",
   "execution_count": 4,
   "id": "8686958c",
   "metadata": {},
   "outputs": [],
   "source": [
    "custom_prompt_template = \"\"\"Use the following pieces of information to answer the user's question.\n",
    "If you don't know the answer, just say that you don't know, don't try to make up an answer.\n",
    "\n",
    "Context: {context}\n",
    "Question: {question}\n",
    "\n",
    "Only return the helpful answer below and nothing else.\n",
    "Helpful answer:\n",
    "\"\"\"\n",
    "\n",
    "def set_custom_prompt():\n",
    "    \"\"\"\n",
    "    Prompt template for QA retrieval for each vectorstore\n",
    "    \"\"\"\n",
    "    prompt = PromptTemplate(template=custom_prompt_template,\n",
    "                            input_variables=['context', 'question'])\n",
    "    return prompt"
   ]
  },
  {
   "cell_type": "code",
   "execution_count": 5,
   "id": "8cb05868",
   "metadata": {},
   "outputs": [],
   "source": [
    "#Retrieval QA Chain\n",
    "def retrieval_qa_chain(llm, prompt, db):\n",
    "    qa_chain = RetrievalQA.from_chain_type(llm=llm,\n",
    "                                       chain_type='stuff',\n",
    "                                       retriever=db.as_retriever(search_kwargs={'k': 4}),\n",
    "                                       return_source_documents=True,\n",
    "                                       chain_type_kwargs={'prompt': prompt}\n",
    "                                       )\n",
    "    return qa_chain"
   ]
  },
  {
   "cell_type": "code",
   "execution_count": 6,
   "id": "4ef083c5",
   "metadata": {},
   "outputs": [],
   "source": [
    "#Loading the model\n",
    "def load_llm():\n",
    "    # Load the locally downloaded model here\n",
    "    llm = CTransformers(\n",
    "        model = \"llama-2-7b-chat.ggmlv3.q8_0.bin\",\n",
    "        model_type=\"llama\",\n",
    "        max_new_tokens = 512,\n",
    "        temperature = 0.5\n",
    "    )\n",
    "    return llm"
   ]
  },
  {
   "cell_type": "code",
   "execution_count": 7,
   "id": "e1c9563d",
   "metadata": {},
   "outputs": [],
   "source": [
    "#QA Model Function\n",
    "def qa_bot():\n",
    "    embeddings = HuggingFaceEmbeddings(model_name=\"sentence-transformers/all-MiniLM-L6-v2\",\n",
    "                                       model_kwargs={'device': 'cpu'})\n",
    "    db = FAISS.load_local(DB_FAISS_PATH, embeddings)\n",
    "    llm = load_llm()\n",
    "    qa_prompt = set_custom_prompt()\n",
    "    qa = retrieval_qa_chain(llm, qa_prompt, db)\n",
    "\n",
    "    return qa"
   ]
  },
  {
   "cell_type": "code",
   "execution_count": 8,
   "id": "05b5ac7a",
   "metadata": {},
   "outputs": [],
   "source": [
    "#output function\n",
    "def final_result(query):\n",
    "    qa_result = qa_bot()\n",
    "    response = qa_result({'query': query})\n",
    "    return response"
   ]
  },
  {
   "cell_type": "code",
   "execution_count": 9,
   "id": "ccc609dc",
   "metadata": {},
   "outputs": [
    {
     "name": "stdout",
     "output_type": "stream",
     "text": [
      "2023-07-30 23:00:45 - Load pretrained SentenceTransformer: sentence-transformers/all-MiniLM-L6-v2\n",
      "2023-07-30 23:00:46 - Loading faiss with AVX2 support.\n",
      "2023-07-30 23:00:46 - Could not load library with AVX2 support due to:\n",
      "ModuleNotFoundError(\"No module named 'faiss.swigfaiss_avx2'\")\n",
      "2023-07-30 23:00:46 - Loading faiss.\n",
      "2023-07-30 23:00:46 - Successfully loaded faiss.\n"
     ]
    },
    {
     "data": {
      "application/vnd.jupyter.widget-view+json": {
       "model_id": "9fc3ab41223a4bb6a3dec96b96cb09d0",
       "version_major": 2,
       "version_minor": 0
      },
      "text/plain": [
       "Batches:   0%|          | 0/1 [00:00<?, ?it/s]"
      ]
     },
     "metadata": {},
     "output_type": "display_data"
    },
    {
     "data": {
      "text/plain": [
       "{'query': 'My stomach has been feeling uncomfortable for many days. I have to go poop multiple times a day and I am feel slight stomach ache. What could be the possible cause of my problem?',\n",
       " 'result': \"Antidiarrested around or a combination of information is caused by the user578 hours after taking certain antidiarrestabdomesticated with diarrhese drugs may not always consult with acute and irriting and also occurs when you don'\\nI cannot be caused by taking medication,\\nAntidiarrestabdomestic ulcervom/p> Antidiarrestabdominate.\\nIf your symptoms the doctorVisiting abdominantly with lactually becomes more than two days or above the symptoms are there are you don'I don'The information about \\n• Diarrestabdom, diarrested to diagnose. I'You'Hi!\\nSorry, Yes, you don'\\nAntidiarrhese drugs\\nDiarrestabdomic diarrested at first of  Based on Antidiopin a common causes of the symptomsom/p> Diarrestabdomestic ulcervomes not enough, thank you could you need to prevent diarrhesitation to aThe term usually indicates that lastsometimes it is there are there are there are there are there are there are there are there are some types of the most likely caused\",\n",
       " 'source_documents': [Document(page_content='problem lasts longer or if it keeps coming back, diarrheacould be a sign of a more serious problem. Anyone whohas any of the symptoms listed below should get medicalattention as soon as possible:\\n• diarrhea that lasts more than two days or gets worse\\nGALE ENCYCLOPEDIA OF MEDICINE 2 264Antidiarrheal drugsGEM - 0001 to 0432 - A  10/22/03 1:42 PM  Page 264', metadata={'source': 'data\\\\71763-gale-encyclopedia-of-medicine.-vol.-1.-2nd-ed.pdf', 'page': 277}),\n",
       "  Document(page_content='problem. The symptom may be caused by eating or drink-ing food or water that is contaminated with bacteria, virus-es, or parasites, or by eating something that is difficult todigest. People who have trouble digesting lactose (milksugar), for example, may get diarrhea if they eat dairyproducts. Some cases of diarrhea are caused by stress ,\\nwhile others are brought on by taking certain medicines.\\nDescription\\nAntidiarrheal drugs work in several ways. The drug', metadata={'source': 'data\\\\71763-gale-encyclopedia-of-medicine.-vol.-1.-2nd-ed.pdf', 'page': 277}),\n",
       "  Document(page_content='• Constipation occurs acutely with impaction—the pres-\\nence in the rectum of a mass of feces too large to pass.Fecal impaction is usually the result of poor bowelhabits, a diet with too little liquid and roughage, andinadequate physical activity.\\n• Diarrhea, whether acute or chronic, can disrupt the\\nbowel’s normal rhythm and lead to irregularity.\\n• Several diseases of the nervous system affect bowel\\nreflexes.\\nDescription\\nBowel training reestablishes the bowel’s normal', metadata={'source': 'data\\\\71763-gale-encyclopedia-of-medicine.-vol.-1.-2nd-ed.pdf', 'page': 578}),\n",
       "  Document(page_content='beginning around or above the navel. The pain, whichmay be severe or only achy and uncomfortable, eventual-ly moves into the right lower corner of the abdomen.There, it becomes more steady and more severe, andoften increases with movement, coughing, and so forth.The abdomen often becomes rigid and tender to thetouch. Increasing rigidity and tenderness indicates anincreased likelihood of perforation and peritonitis.\\nLoss of appetite is very common. Nausea and vom-', metadata={'source': 'data\\\\71763-gale-encyclopedia-of-medicine.-vol.-1.-2nd-ed.pdf', 'page': 355})]}"
      ]
     },
     "execution_count": 9,
     "metadata": {},
     "output_type": "execute_result"
    }
   ],
   "source": [
    "query = \"My stomach has been feeling uncomfortable for many days. I have to go poop multiple times a day and I am feel slight stomach ache. What could be the possible cause of my problem?\"\n",
    "\n",
    "embeddings = HuggingFaceEmbeddings(model_name=\"sentence-transformers/all-MiniLM-L6-v2\",\n",
    "                                       model_kwargs={'device': 'cpu'})\n",
    "db = FAISS.load_local(DB_FAISS_PATH, embeddings)\n",
    "llm = load_llm()\n",
    "qa_prompt = set_custom_prompt()\n",
    "qa_result = retrieval_qa_chain(llm, qa_prompt, db)\n",
    "response = qa_result({'query': query})\n",
    "response"
   ]
  },
  {
   "cell_type": "code",
   "execution_count": 12,
   "id": "39c442dc",
   "metadata": {},
   "outputs": [
    {
     "data": {
      "text/plain": [
       "\"Antidiarrested around or a combination of information is caused by the user578 hours after taking certain antidiarrestabdomesticated with diarrhese drugs may not always consult with acute and irriting and also occurs when you don'\\nI cannot be caused by taking medication,\\nAntidiarrestabdomestic ulcervom/p> Antidiarrestabdominate.\\nIf your symptoms the doctorVisiting abdominantly with lactually becomes more than two days or above the symptoms are there are you don'I don'The information about \\n• Diarrestabdom, diarrested to diagnose. I'You'Hi!\\nSorry, Yes, you don'\\nAntidiarrhese drugs\\nDiarrestabdomic diarrested at first of  Based on Antidiopin a common causes of the symptomsom/p> Diarrestabdomestic ulcervomes not enough, thank you could you need to prevent diarrhesitation to aThe term usually indicates that lastsometimes it is there are there are there are there are there are there are there are there are some types of the most likely caused\""
      ]
     },
     "execution_count": 12,
     "metadata": {},
     "output_type": "execute_result"
    }
   ],
   "source": [
    "response['result']"
   ]
  },
  {
   "cell_type": "code",
   "execution_count": 10,
   "id": "c829226e",
   "metadata": {},
   "outputs": [
    {
     "name": "stdout",
     "output_type": "stream",
     "text": [
      "Sun Jul 30 23:02:17 2023       \n",
      "+---------------------------------------------------------------------------------------+\n",
      "| NVIDIA-SMI 536.67                 Driver Version: 536.67       CUDA Version: 12.2     |\n",
      "|-----------------------------------------+----------------------+----------------------+\n",
      "| GPU  Name                     TCC/WDDM  | Bus-Id        Disp.A | Volatile Uncorr. ECC |\n",
      "| Fan  Temp   Perf          Pwr:Usage/Cap |         Memory-Usage | GPU-Util  Compute M. |\n",
      "|                                         |                      |               MIG M. |\n",
      "|=========================================+======================+======================|\n",
      "|   0  NVIDIA GeForce RTX 3090      WDDM  | 00000000:01:00.0  On |                  N/A |\n",
      "| 33%   31C    P8              16W / 350W |    579MiB / 24576MiB |      1%      Default |\n",
      "|                                         |                      |                  N/A |\n",
      "+-----------------------------------------+----------------------+----------------------+\n",
      "                                                                                         \n",
      "+---------------------------------------------------------------------------------------+\n",
      "| Processes:                                                                            |\n",
      "|  GPU   GI   CI        PID   Type   Process name                            GPU Memory |\n",
      "|        ID   ID                                                             Usage      |\n",
      "|=======================================================================================|\n",
      "|    0   N/A  N/A      2632    C+G   ...Data\\Local\\Programs\\Opera\\opera.exe    N/A      |\n",
      "|    0   N/A  N/A      3252    C+G   ...oogle\\Chrome\\Application\\chrome.exe    N/A      |\n",
      "|    0   N/A  N/A      7200    C+G   ...al\\Discord\\app-1.0.9015\\Discord.exe    N/A      |\n",
      "|    0   N/A  N/A      7576    C+G   C:\\Windows\\explorer.exe                   N/A      |\n",
      "|    0   N/A  N/A     10052    C+G   ...nt.CBS_cw5n1h2txyewy\\SearchHost.exe    N/A      |\n",
      "|    0   N/A  N/A     10076    C+G   ...2txyewy\\StartMenuExperienceHost.exe    N/A      |\n",
      "|    0   N/A  N/A     10652    C+G   ...t.LockApp_cw5n1h2txyewy\\LockApp.exe    N/A      |\n",
      "|    0   N/A  N/A     13036    C+G   ...GeForce Experience\\NVIDIA Share.exe    N/A      |\n",
      "|    0   N/A  N/A     13788    C+G   ...ekyb3d8bbwe\\PhoneExperienceHost.exe    N/A      |\n",
      "|    0   N/A  N/A     13936    C+G   ...cal\\Microsoft\\OneDrive\\OneDrive.exe    N/A      |\n",
      "|    0   N/A  N/A     14840    C+G   ...crosoft\\Edge\\Application\\msedge.exe    N/A      |\n",
      "|    0   N/A  N/A     16680    C+G   ...CBS_cw5n1h2txyewy\\TextInputHost.exe    N/A      |\n",
      "|    0   N/A  N/A     18256    C+G   ...6778_x64__8wekyb3d8bbwe\\msteams.exe    N/A      |\n",
      "|    0   N/A  N/A     18552    C+G   ...n\\115.0.1901.188\\msedgewebview2.exe    N/A      |\n",
      "|    0   N/A  N/A     19600    C+G   ...__8wekyb3d8bbwe\\WindowsTerminal.exe    N/A      |\n",
      "+---------------------------------------------------------------------------------------+\n"
     ]
    }
   ],
   "source": [
    "!nvidia-smi"
   ]
  },
  {
   "cell_type": "code",
   "execution_count": null,
   "id": "0d55bdec",
   "metadata": {},
   "outputs": [],
   "source": []
  }
 ],
 "metadata": {
  "kernelspec": {
   "display_name": "Python 3 (ipykernel)",
   "language": "python",
   "name": "python3"
  },
  "language_info": {
   "codemirror_mode": {
    "name": "ipython",
    "version": 3
   },
   "file_extension": ".py",
   "mimetype": "text/x-python",
   "name": "python",
   "nbconvert_exporter": "python",
   "pygments_lexer": "ipython3",
   "version": "3.11.4"
  }
 },
 "nbformat": 4,
 "nbformat_minor": 5
}
