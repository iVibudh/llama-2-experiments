{
 "cells": [
  {
   "cell_type": "code",
   "execution_count": 10,
   "id": "2ac25d29",
   "metadata": {
    "scrolled": true
   },
   "outputs": [],
   "source": [
    "from langchain.document_loaders import PyPDFLoader, DirectoryLoader\n",
    "from langchain import PromptTemplate\n",
    "from langchain.embeddings import HuggingFaceEmbeddings\n",
    "from langchain.vectorstores import FAISS\n",
    "from langchain.llms import CTransformers, ctransformers\n",
    "from langchain.chains import RetrievalQA\n",
    "\n",
    "import chainlit as cl\n",
    "\n",
    "from langchain.text_splitter import RecursiveCharacterTextSplitter "
   ]
  },
  {
   "cell_type": "markdown",
   "id": "ff2914d0",
   "metadata": {},
   "source": [
    "## check GGPU access\n",
    "imnpot torch \n",
    "print(torch.cuda.__is_available__)\n",
    "1+1"
   ]
  },
  {
   "cell_type": "code",
   "execution_count": 11,
   "id": "b445a3c0",
   "metadata": {},
   "outputs": [
    {
     "data": {
      "text/plain": [
       "True"
      ]
     },
     "execution_count": 11,
     "metadata": {},
     "output_type": "execute_result"
    }
   ],
   "source": [
    "import torch\n",
    "torch.cuda.is_available()"
   ]
  },
  {
   "cell_type": "code",
   "execution_count": 42,
   "id": "bc0580ae",
   "metadata": {},
   "outputs": [
    {
     "name": "stdout",
     "output_type": "stream",
     "text": [
      "cuda:0\n"
     ]
    }
   ],
   "source": [
    "device = \"cuda:0\" if torch.cuda.is_available() else \"cpu\"\n",
    "print(device)\n",
    "#     llm_gpu = llm.to(device)"
   ]
  },
  {
   "cell_type": "code",
   "execution_count": 12,
   "id": "3193f0a9",
   "metadata": {},
   "outputs": [],
   "source": [
    "# pip install sentence_transformers"
   ]
  },
  {
   "cell_type": "code",
   "execution_count": null,
   "id": "4d4a4c1c",
   "metadata": {},
   "outputs": [],
   "source": []
  },
  {
   "cell_type": "code",
   "execution_count": null,
   "id": "5522f697",
   "metadata": {},
   "outputs": [],
   "source": [
    "#### requirements.txt\n",
    "# langchain==0.0.247\n",
    "# chainlit==0.6.1\n",
    "# pypdf==3.14.0\n",
    "# faiss-cpu == 1.7.4\n",
    "# transformers==4.31.0\n",
    "# ctransformers #ctransformers-0.2.16-0.2.16\n",
    "# sentence_transformers\n",
    "# torch #'2.0.1+cpu'\n",
    "\n",
    "# #accelerate\n",
    "# #bitsandbytes"
   ]
  },
  {
   "cell_type": "code",
   "execution_count": 2,
   "id": "9fdf34ec",
   "metadata": {},
   "outputs": [
    {
     "data": {
      "text/plain": [
       "'2.0.1+cpu'"
      ]
     },
     "execution_count": 2,
     "metadata": {},
     "output_type": "execute_result"
    }
   ],
   "source": [
    "import torch\n",
    "torch.__version__"
   ]
  },
  {
   "cell_type": "code",
   "execution_count": 3,
   "id": "3d38b08e",
   "metadata": {},
   "outputs": [
    {
     "data": {
      "text/plain": [
       "False"
      ]
     },
     "execution_count": 3,
     "metadata": {},
     "output_type": "execute_result"
    }
   ],
   "source": [
    "import torch\n",
    "torch.cuda.is_available()"
   ]
  },
  {
   "cell_type": "code",
   "execution_count": 5,
   "id": "0629899a",
   "metadata": {},
   "outputs": [],
   "source": [
    "# import cuda\n",
    "# cuda.__version__"
   ]
  },
  {
   "cell_type": "code",
   "execution_count": null,
   "id": "a327eba5",
   "metadata": {},
   "outputs": [],
   "source": [
    "# device = torch.device\"cpu'AttributeError"
   ]
  },
  {
   "cell_type": "code",
   "execution_count": 6,
   "id": "970c48ec",
   "metadata": {},
   "outputs": [
    {
     "name": "stdout",
     "output_type": "stream",
     "text": [
      "Tue Aug  1 22:38:48 2023       \n",
      "+---------------------------------------------------------------------------------------+\n",
      "| NVIDIA-SMI 536.67                 Driver Version: 536.67       CUDA Version: 12.2     |\n",
      "|-----------------------------------------+----------------------+----------------------+\n",
      "| GPU  Name                     TCC/WDDM  | Bus-Id        Disp.A | Volatile Uncorr. ECC |\n",
      "| Fan  Temp   Perf          Pwr:Usage/Cap |         Memory-Usage | GPU-Util  Compute M. |\n",
      "|                                         |                      |               MIG M. |\n",
      "|=========================================+======================+======================|\n",
      "|   0  NVIDIA GeForce RTX 3090      WDDM  | 00000000:01:00.0  On |                  N/A |\n",
      "| 33%   31C    P8              22W / 350W |    813MiB / 24576MiB |     13%      Default |\n",
      "|                                         |                      |                  N/A |\n",
      "+-----------------------------------------+----------------------+----------------------+\n",
      "                                                                                         \n",
      "+---------------------------------------------------------------------------------------+\n",
      "| Processes:                                                                            |\n",
      "|  GPU   GI   CI        PID   Type   Process name                            GPU Memory |\n",
      "|        ID   ID                                                             Usage      |\n",
      "|=======================================================================================|\n",
      "|    0   N/A  N/A      5412    C+G   ...nt.CBS_cw5n1h2txyewy\\SearchHost.exe    N/A      |\n",
      "|    0   N/A  N/A      5668    C+G   ...CBS_cw5n1h2txyewy\\TextInputHost.exe    N/A      |\n",
      "|    0   N/A  N/A      6400    C+G   C:\\Windows\\explorer.exe                   N/A      |\n",
      "|    0   N/A  N/A      6744    C+G   ...t.LockApp_cw5n1h2txyewy\\LockApp.exe    N/A      |\n",
      "|    0   N/A  N/A      8208    C+G   ...n\\115.0.1901.188\\msedgewebview2.exe    N/A      |\n",
      "|    0   N/A  N/A      8504    C+G   ...2txyewy\\StartMenuExperienceHost.exe    N/A      |\n",
      "|    0   N/A  N/A      9284    C+G   ...__8wekyb3d8bbwe\\Notepad\\Notepad.exe    N/A      |\n",
      "|    0   N/A  N/A     10336    C+G   ...siveControlPanel\\SystemSettings.exe    N/A      |\n",
      "|    0   N/A  N/A     12024    C+G   ...ekyb3d8bbwe\\PhoneExperienceHost.exe    N/A      |\n",
      "|    0   N/A  N/A     12724    C+G   ...GeForce Experience\\NVIDIA Share.exe    N/A      |\n",
      "|    0   N/A  N/A     13016    C+G   ...cal\\Microsoft\\OneDrive\\OneDrive.exe    N/A      |\n",
      "|    0   N/A  N/A     14024    C+G   ...crosoft\\Edge\\Application\\msedge.exe    N/A      |\n",
      "|    0   N/A  N/A     15388    C+G   ...al\\Discord\\app-1.0.9016\\Discord.exe    N/A      |\n",
      "|    0   N/A  N/A     16832    C+G   ...Programs\\Microsoft VS Code\\Code.exe    N/A      |\n",
      "|    0   N/A  N/A     17440    C+G   ....823_x64__8wekyb3d8bbwe\\msteams.exe    N/A      |\n",
      "|    0   N/A  N/A     17864    C+G   ...__8wekyb3d8bbwe\\WindowsTerminal.exe    N/A      |\n",
      "|    0   N/A  N/A     18092    C+G   ...5n1h2txyewy\\ShellExperienceHost.exe    N/A      |\n",
      "|    0   N/A  N/A     18440    C+G   ...n\\115.0.1901.188\\msedgewebview2.exe    N/A      |\n",
      "+---------------------------------------------------------------------------------------+\n"
     ]
    }
   ],
   "source": [
    "!nvidia-smi"
   ]
  },
  {
   "cell_type": "code",
   "execution_count": 8,
   "id": "547094d2",
   "metadata": {},
   "outputs": [
    {
     "data": {
      "text/plain": [
       "'0.0.247'"
      ]
     },
     "execution_count": 8,
     "metadata": {},
     "output_type": "execute_result"
    }
   ],
   "source": [
    "# pip install langchain\n",
    "import langchain\n",
    "langchain.__version__"
   ]
  },
  {
   "cell_type": "code",
   "execution_count": null,
   "id": "5f3c0d29",
   "metadata": {},
   "outputs": [
    {
     "data": {
      "text/plain": [
       "'0.6.1'"
      ]
     },
     "execution_count": 2,
     "metadata": {},
     "output_type": "execute_result"
    }
   ],
   "source": [
    "# pip install chainlit\n",
    "cl.__version__"
   ]
  },
  {
   "cell_type": "code",
   "execution_count": null,
   "id": "36573030",
   "metadata": {},
   "outputs": [],
   "source": [
    "# pip install sentence_transformers"
   ]
  },
  {
   "cell_type": "code",
   "execution_count": null,
   "id": "4721f413",
   "metadata": {},
   "outputs": [
    {
     "data": {
      "text/plain": [
       "'3.14.0'"
      ]
     },
     "execution_count": 4,
     "metadata": {},
     "output_type": "execute_result"
    }
   ],
   "source": [
    "# pip install pypdf\n",
    "import pypdf\n",
    "pypdf.__version__"
   ]
  },
  {
   "cell_type": "code",
   "execution_count": null,
   "id": "2d7434cf",
   "metadata": {},
   "outputs": [
    {
     "name": "stdout",
     "output_type": "stream",
     "text": [
      "Collecting faiss-cpuNote: you may need to restart the kernel to use updated packages.\n",
      "\n",
      "  Downloading faiss_cpu-1.7.4-cp311-cp311-win_amd64.whl (10.8 MB)\n",
      "                                              0.0/10.8 MB ? eta -:--:--\n",
      "                                              0.0/10.8 MB 1.9 MB/s eta 0:00:06\n",
      "                                              0.1/10.8 MB 1.1 MB/s eta 0:00:10\n",
      "                                             0.1/10.8 MB 871.5 kB/s eta 0:00:13\n",
      "                                             0.1/10.8 MB 819.2 kB/s eta 0:00:14\n",
      "                                             0.1/10.8 MB 654.9 kB/s eta 0:00:17\n",
      "                                             0.2/10.8 MB 653.6 kB/s eta 0:00:17\n",
      "                                             0.2/10.8 MB 655.1 kB/s eta 0:00:17\n",
      "                                             0.2/10.8 MB 715.9 kB/s eta 0:00:15\n",
      "     -                                       0.3/10.8 MB 737.3 kB/s eta 0:00:15\n",
      "     -                                       0.3/10.8 MB 752.2 kB/s eta 0:00:14\n",
      "     -                                       0.4/10.8 MB 764.2 kB/s eta 0:00:14\n",
      "     -                                       0.4/10.8 MB 774.0 kB/s eta 0:00:14\n",
      "     -                                       0.5/10.8 MB 782.1 kB/s eta 0:00:14\n",
      "     -                                       0.5/10.8 MB 755.4 kB/s eta 0:00:14\n",
      "     -                                       0.5/10.8 MB 748.1 kB/s eta 0:00:14\n",
      "     --                                      0.6/10.8 MB 770.9 kB/s eta 0:00:14\n",
      "     --                                      0.6/10.8 MB 805.5 kB/s eta 0:00:13\n",
      "     --                                      0.7/10.8 MB 822.3 kB/s eta 0:00:13\n",
      "     --                                      0.7/10.8 MB 825.0 kB/s eta 0:00:13\n",
      "     --                                      0.8/10.8 MB 839.0 kB/s eta 0:00:12\n",
      "     --                                      0.8/10.8 MB 851.5 kB/s eta 0:00:12\n",
      "     ---                                     0.9/10.8 MB 862.9 kB/s eta 0:00:12\n",
      "     ---                                     0.9/10.8 MB 853.3 kB/s eta 0:00:12\n",
      "     ---                                     1.0/10.8 MB 873.1 kB/s eta 0:00:12\n",
      "     ---                                     1.0/10.8 MB 882.9 kB/s eta 0:00:12\n",
      "     ---                                     1.1/10.8 MB 891.2 kB/s eta 0:00:11\n",
      "     ----                                    1.1/10.8 MB 907.2 kB/s eta 0:00:11\n",
      "     ----                                    1.2/10.8 MB 914.0 kB/s eta 0:00:11\n",
      "     ----                                    1.2/10.8 MB 931.6 kB/s eta 0:00:11\n",
      "     ----                                    1.3/10.8 MB 926.1 kB/s eta 0:00:11\n",
      "     ----                                    1.3/10.8 MB 938.8 kB/s eta 0:00:11\n",
      "     -----                                   1.4/10.8 MB 957.8 kB/s eta 0:00:10\n",
      "     -----                                   1.4/10.8 MB 965.4 kB/s eta 0:00:10\n",
      "     -----                                   1.5/10.8 MB 973.0 kB/s eta 0:00:10\n",
      "     -----                                   1.6/10.8 MB 976.5 kB/s eta 0:00:10\n",
      "     -----                                   1.6/10.8 MB 979.7 kB/s eta 0:00:10\n",
      "     ------                                  1.7/10.8 MB 994.9 kB/s eta 0:00:10\n",
      "     ------                                   1.8/10.8 MB 1.0 MB/s eta 0:00:09\n",
      "     ------                                   1.8/10.8 MB 1.0 MB/s eta 0:00:09\n",
      "     ------                                   1.9/10.8 MB 1.0 MB/s eta 0:00:09\n",
      "     -------                                  1.9/10.8 MB 1.0 MB/s eta 0:00:09\n",
      "     -------                                  2.0/10.8 MB 1.0 MB/s eta 0:00:09\n",
      "     -------                                  2.1/10.8 MB 1.0 MB/s eta 0:00:09\n",
      "     -------                                  2.1/10.8 MB 1.1 MB/s eta 0:00:09\n",
      "     --------                                 2.2/10.8 MB 1.1 MB/s eta 0:00:09\n",
      "     --------                                 2.3/10.8 MB 1.1 MB/s eta 0:00:08\n",
      "     --------                                 2.4/10.8 MB 1.1 MB/s eta 0:00:08\n",
      "     ---------                                2.4/10.8 MB 1.1 MB/s eta 0:00:08\n",
      "     ---------                                2.5/10.8 MB 1.1 MB/s eta 0:00:08\n",
      "     ---------                                2.6/10.8 MB 1.1 MB/s eta 0:00:08\n",
      "     ---------                                2.7/10.8 MB 1.1 MB/s eta 0:00:08\n",
      "     ----------                               2.7/10.8 MB 1.2 MB/s eta 0:00:07\n",
      "     ----------                               2.8/10.8 MB 1.2 MB/s eta 0:00:07\n",
      "     ----------                               2.9/10.8 MB 1.2 MB/s eta 0:00:07\n",
      "     ----------                               2.9/10.8 MB 1.2 MB/s eta 0:00:07\n",
      "     -----------                              3.1/10.8 MB 1.2 MB/s eta 0:00:07\n",
      "     -----------                              3.1/10.8 MB 1.2 MB/s eta 0:00:07\n",
      "     -----------                              3.2/10.8 MB 1.2 MB/s eta 0:00:07\n",
      "     -----------                              3.2/10.8 MB 1.2 MB/s eta 0:00:07\n",
      "     ------------                             3.3/10.8 MB 1.2 MB/s eta 0:00:07\n",
      "     ------------                             3.4/10.8 MB 1.2 MB/s eta 0:00:07\n",
      "     ------------                             3.4/10.8 MB 1.2 MB/s eta 0:00:07\n",
      "     ------------                             3.5/10.8 MB 1.2 MB/s eta 0:00:07\n",
      "     -------------                            3.6/10.8 MB 1.2 MB/s eta 0:00:07\n",
      "     -------------                            3.6/10.8 MB 1.2 MB/s eta 0:00:06\n",
      "     -------------                            3.7/10.8 MB 1.2 MB/s eta 0:00:06\n",
      "     -------------                            3.8/10.8 MB 1.2 MB/s eta 0:00:06\n",
      "     --------------                           3.8/10.8 MB 1.2 MB/s eta 0:00:06\n",
      "     --------------                           3.9/10.8 MB 1.2 MB/s eta 0:00:06\n",
      "     --------------                           4.0/10.8 MB 1.2 MB/s eta 0:00:06\n",
      "     ---------------                          4.1/10.8 MB 1.2 MB/s eta 0:00:06\n",
      "     ---------------                          4.1/10.8 MB 1.2 MB/s eta 0:00:06\n",
      "     ---------------                          4.2/10.8 MB 1.2 MB/s eta 0:00:06\n",
      "     ---------------                          4.3/10.8 MB 1.2 MB/s eta 0:00:06\n",
      "     ----------------                         4.3/10.8 MB 1.2 MB/s eta 0:00:06\n",
      "     ----------------                         4.4/10.8 MB 1.3 MB/s eta 0:00:06\n",
      "     ----------------                         4.5/10.8 MB 1.3 MB/s eta 0:00:06\n",
      "     ----------------                         4.6/10.8 MB 1.3 MB/s eta 0:00:05\n",
      "     -----------------                        4.6/10.8 MB 1.3 MB/s eta 0:00:05\n",
      "     -----------------                        4.7/10.8 MB 1.3 MB/s eta 0:00:05\n",
      "     -----------------                        4.8/10.8 MB 1.3 MB/s eta 0:00:05\n",
      "     ------------------                       4.9/10.8 MB 1.3 MB/s eta 0:00:05\n",
      "     ------------------                       5.0/10.8 MB 1.3 MB/s eta 0:00:05\n",
      "     ------------------                       5.1/10.8 MB 1.3 MB/s eta 0:00:05\n",
      "     -------------------                      5.1/10.8 MB 1.3 MB/s eta 0:00:05\n",
      "     -------------------                      5.2/10.8 MB 1.3 MB/s eta 0:00:05\n",
      "     -------------------                      5.3/10.8 MB 1.3 MB/s eta 0:00:05\n",
      "     --------------------                     5.4/10.8 MB 1.3 MB/s eta 0:00:05\n",
      "     --------------------                     5.5/10.8 MB 1.3 MB/s eta 0:00:04\n",
      "     --------------------                     5.6/10.8 MB 1.3 MB/s eta 0:00:04\n",
      "     ---------------------                    5.7/10.8 MB 1.4 MB/s eta 0:00:04\n",
      "     ---------------------                    5.8/10.8 MB 1.4 MB/s eta 0:00:04\n",
      "     ---------------------                    5.9/10.8 MB 1.4 MB/s eta 0:00:04\n",
      "     ----------------------                   6.0/10.8 MB 1.4 MB/s eta 0:00:04\n",
      "     ----------------------                   6.0/10.8 MB 1.4 MB/s eta 0:00:04\n",
      "     ----------------------                   6.2/10.8 MB 1.4 MB/s eta 0:00:04\n",
      "     -----------------------                  6.2/10.8 MB 1.4 MB/s eta 0:00:04\n",
      "     -----------------------                  6.3/10.8 MB 1.4 MB/s eta 0:00:04\n",
      "     -----------------------                  6.5/10.8 MB 1.4 MB/s eta 0:00:04\n",
      "     ------------------------                 6.6/10.8 MB 1.4 MB/s eta 0:00:03\n",
      "     ------------------------                 6.6/10.8 MB 1.4 MB/s eta 0:00:03\n",
      "     -------------------------                6.7/10.8 MB 1.4 MB/s eta 0:00:03\n",
      "     -------------------------                6.8/10.8 MB 1.4 MB/s eta 0:00:03\n",
      "     -------------------------                7.0/10.8 MB 1.4 MB/s eta 0:00:03\n",
      "     --------------------------               7.1/10.8 MB 1.5 MB/s eta 0:00:03\n",
      "     --------------------------               7.2/10.8 MB 1.5 MB/s eta 0:00:03\n",
      "     ---------------------------              7.3/10.8 MB 1.5 MB/s eta 0:00:03\n",
      "     ---------------------------              7.4/10.8 MB 1.5 MB/s eta 0:00:03\n",
      "     ---------------------------              7.5/10.8 MB 1.5 MB/s eta 0:00:03\n",
      "     ----------------------------             7.6/10.8 MB 1.5 MB/s eta 0:00:03\n",
      "     ----------------------------             7.7/10.8 MB 1.5 MB/s eta 0:00:03\n",
      "     ----------------------------             7.8/10.8 MB 1.5 MB/s eta 0:00:02\n",
      "     -----------------------------            7.9/10.8 MB 1.5 MB/s eta 0:00:02\n",
      "     -----------------------------            8.0/10.8 MB 1.5 MB/s eta 0:00:02\n",
      "     ------------------------------           8.1/10.8 MB 1.5 MB/s eta 0:00:02\n",
      "     ------------------------------           8.2/10.8 MB 1.5 MB/s eta 0:00:02\n",
      "     ------------------------------           8.3/10.8 MB 1.5 MB/s eta 0:00:02\n",
      "     -------------------------------          8.4/10.8 MB 1.5 MB/s eta 0:00:02\n",
      "     -------------------------------          8.6/10.8 MB 1.6 MB/s eta 0:00:02\n",
      "     --------------------------------         8.6/10.8 MB 1.6 MB/s eta 0:00:02\n",
      "     --------------------------------         8.8/10.8 MB 1.6 MB/s eta 0:00:02\n",
      "     ---------------------------------        8.9/10.8 MB 1.6 MB/s eta 0:00:02\n",
      "     ---------------------------------        9.0/10.8 MB 1.6 MB/s eta 0:00:02\n",
      "     ----------------------------------       9.2/10.8 MB 1.6 MB/s eta 0:00:02\n",
      "     ----------------------------------       9.3/10.8 MB 1.6 MB/s eta 0:00:01\n",
      "     ----------------------------------       9.4/10.8 MB 1.6 MB/s eta 0:00:01\n",
      "     -----------------------------------      9.5/10.8 MB 1.6 MB/s eta 0:00:01\n",
      "     -----------------------------------      9.6/10.8 MB 1.6 MB/s eta 0:00:01\n",
      "     ------------------------------------     9.7/10.8 MB 1.6 MB/s eta 0:00:01\n",
      "     ------------------------------------     9.9/10.8 MB 1.6 MB/s eta 0:00:01\n",
      "     -------------------------------------    10.0/10.8 MB 1.6 MB/s eta 0:00:01\n",
      "     -------------------------------------    10.0/10.8 MB 1.6 MB/s eta 0:00:01\n",
      "     -------------------------------------    10.2/10.8 MB 1.7 MB/s eta 0:00:01\n",
      "     --------------------------------------   10.3/10.8 MB 1.7 MB/s eta 0:00:01\n",
      "     --------------------------------------   10.4/10.8 MB 1.7 MB/s eta 0:00:01\n",
      "     ---------------------------------------  10.5/10.8 MB 1.7 MB/s eta 0:00:01\n",
      "     ---------------------------------------  10.6/10.8 MB 1.8 MB/s eta 0:00:01\n",
      "     ---------------------------------------  10.8/10.8 MB 1.8 MB/s eta 0:00:01\n",
      "     ---------------------------------------- 10.8/10.8 MB 1.8 MB/s eta 0:00:00\n",
      "Installing collected packages: faiss-cpu\n",
      "Successfully installed faiss-cpu-1.7.4\n"
     ]
    }
   ],
   "source": [
    "# pip install faiss-cpu\n",
    "# import faiss-cpu\n",
    "# faiss-cpu == 1.7.4"
   ]
  },
  {
   "cell_type": "code",
   "execution_count": null,
   "id": "4d1a6fb3",
   "metadata": {},
   "outputs": [
    {
     "name": "stdout",
     "output_type": "stream",
     "text": [
      "Requirement already satisfied: transformers in c:\\users\\vibud\\miniconda3\\lib\\site-packages (4.31.0)\n",
      "Requirement already satisfied: filelock in c:\\users\\vibud\\miniconda3\\lib\\site-packages (from transformers) (3.12.2)\n",
      "Requirement already satisfied: huggingface-hub<1.0,>=0.14.1 in c:\\users\\vibud\\miniconda3\\lib\\site-packages (from transformers) (0.16.4)\n",
      "Requirement already satisfied: numpy>=1.17 in c:\\users\\vibud\\miniconda3\\lib\\site-packages (from transformers) (1.25.1)\n",
      "Requirement already satisfied: packaging>=20.0 in c:\\users\\vibud\\miniconda3\\lib\\site-packages (from transformers) (23.0)\n",
      "Requirement already satisfied: pyyaml>=5.1 in c:\\users\\vibud\\miniconda3\\lib\\site-packages (from transformers) (6.0)\n",
      "Requirement already satisfied: regex!=2019.12.17 in c:\\users\\vibud\\miniconda3\\lib\\site-packages (from transformers) (2023.6.3)\n",
      "Requirement already satisfied: requests in c:\\users\\vibud\\miniconda3\\lib\\site-packages (from transformers) (2.29.0)\n",
      "Requirement already satisfied: tokenizers!=0.11.3,<0.14,>=0.11.1 in c:\\users\\vibud\\miniconda3\\lib\\site-packages (from transformers) (0.13.3)\n",
      "Requirement already satisfied: safetensors>=0.3.1 in c:\\users\\vibud\\miniconda3\\lib\\site-packages (from transformers) (0.3.1)\n",
      "Requirement already satisfied: tqdm>=4.27 in c:\\users\\vibud\\miniconda3\\lib\\site-packages (from transformers) (4.65.0)\n",
      "Requirement already satisfied: fsspec in c:\\users\\vibud\\miniconda3\\lib\\site-packages (from huggingface-hub<1.0,>=0.14.1->transformers) (2023.6.0)\n",
      "Requirement already satisfied: typing-extensions>=3.7.4.3 in c:\\users\\vibud\\miniconda3\\lib\\site-packages (from huggingface-hub<1.0,>=0.14.1->transformers) (4.7.1)\n",
      "Requirement already satisfied: colorama in c:\\users\\vibud\\miniconda3\\lib\\site-packages (from tqdm>=4.27->transformers) (0.4.6)\n",
      "Requirement already satisfied: charset-normalizer<4,>=2 in c:\\users\\vibud\\miniconda3\\lib\\site-packages (from requests->transformers) (2.0.4)\n",
      "Requirement already satisfied: idna<4,>=2.5 in c:\\users\\vibud\\miniconda3\\lib\\site-packages (from requests->transformers) (3.4)\n",
      "Requirement already satisfied: urllib3<1.27,>=1.21.1 in c:\\users\\vibud\\miniconda3\\lib\\site-packages (from requests->transformers) (1.26.16)\n",
      "Requirement already satisfied: certifi>=2017.4.17 in c:\\users\\vibud\\miniconda3\\lib\\site-packages (from requests->transformers) (2023.7.22)\n",
      "Note: you may need to restart the kernel to use updated packages.\n"
     ]
    }
   ],
   "source": [
    "pip install transformers"
   ]
  },
  {
   "cell_type": "code",
   "execution_count": null,
   "id": "563b4606",
   "metadata": {},
   "outputs": [
    {
     "data": {
      "text/plain": [
       "'4.31.0'"
      ]
     },
     "execution_count": 29,
     "metadata": {},
     "output_type": "execute_result"
    }
   ],
   "source": [
    "import transformers\n",
    "transformers.__version__"
   ]
  },
  {
   "cell_type": "code",
   "execution_count": null,
   "id": "0ba81514",
   "metadata": {},
   "outputs": [
    {
     "name": "stdout",
     "output_type": "stream",
     "text": [
      "Collecting ctransformers\n",
      "  Downloading ctransformers-0.2.16-py3-none-any.whl (6.5 MB)\n",
      "                                              0.0/6.5 MB ? eta -:--:--\n",
      "                                              0.0/6.5 MB ? eta -:--:--\n",
      "                                              0.1/6.5 MB 2.0 MB/s eta 0:00:04\n",
      "                                              0.1/6.5 MB 1.2 MB/s eta 0:00:06\n",
      "     -                                        0.2/6.5 MB 1.3 MB/s eta 0:00:05\n",
      "     -                                        0.2/6.5 MB 1.3 MB/s eta 0:00:06\n",
      "     -                                        0.3/6.5 MB 1.2 MB/s eta 0:00:06\n",
      "     --                                       0.3/6.5 MB 1.2 MB/s eta 0:00:06\n",
      "     --                                       0.4/6.5 MB 1.2 MB/s eta 0:00:06\n",
      "     --                                       0.4/6.5 MB 1.2 MB/s eta 0:00:06\n",
      "     ---                                      0.5/6.5 MB 1.2 MB/s eta 0:00:06\n",
      "     ---                                      0.5/6.5 MB 1.2 MB/s eta 0:00:06\n",
      "     ---                                      0.6/6.5 MB 1.2 MB/s eta 0:00:05\n",
      "     ----                                     0.7/6.5 MB 1.2 MB/s eta 0:00:05\n",
      "     ----                                     0.7/6.5 MB 1.2 MB/s eta 0:00:05\n",
      "     ----                                     0.8/6.5 MB 1.2 MB/s eta 0:00:05\n",
      "     -----                                    0.9/6.5 MB 1.2 MB/s eta 0:00:05\n",
      "     -----                                    0.9/6.5 MB 1.2 MB/s eta 0:00:05\n",
      "     ------                                   1.0/6.5 MB 1.3 MB/s eta 0:00:05\n",
      "     ------                                   1.1/6.5 MB 1.3 MB/s eta 0:00:05\n",
      "     ------                                   1.1/6.5 MB 1.3 MB/s eta 0:00:05\n",
      "     -------                                  1.2/6.5 MB 1.3 MB/s eta 0:00:05\n",
      "     -------                                  1.3/6.5 MB 1.3 MB/s eta 0:00:05\n",
      "     -------                                  1.3/6.5 MB 1.3 MB/s eta 0:00:05\n",
      "     --------                                 1.4/6.5 MB 1.3 MB/s eta 0:00:05\n",
      "     --------                                 1.4/6.5 MB 1.3 MB/s eta 0:00:04\n",
      "     ---------                                1.5/6.5 MB 1.3 MB/s eta 0:00:04\n",
      "     ---------                                1.6/6.5 MB 1.3 MB/s eta 0:00:04\n",
      "     ----------                               1.7/6.5 MB 1.3 MB/s eta 0:00:04\n",
      "     ----------                               1.7/6.5 MB 1.3 MB/s eta 0:00:04\n",
      "     -----------                              1.8/6.5 MB 1.3 MB/s eta 0:00:04\n",
      "     -----------                              1.9/6.5 MB 1.4 MB/s eta 0:00:04\n",
      "     ------------                             2.0/6.5 MB 1.4 MB/s eta 0:00:04\n",
      "     ------------                             2.0/6.5 MB 1.4 MB/s eta 0:00:04\n",
      "     -------------                            2.1/6.5 MB 1.4 MB/s eta 0:00:04\n",
      "     -------------                            2.2/6.5 MB 1.4 MB/s eta 0:00:04\n",
      "     -------------                            2.3/6.5 MB 1.4 MB/s eta 0:00:04\n",
      "     --------------                           2.4/6.5 MB 1.4 MB/s eta 0:00:03\n",
      "     ---------------                          2.5/6.5 MB 1.4 MB/s eta 0:00:03\n",
      "     ---------------                          2.5/6.5 MB 1.4 MB/s eta 0:00:03\n",
      "     ----------------                         2.6/6.5 MB 1.4 MB/s eta 0:00:03\n",
      "     ----------------                         2.7/6.5 MB 1.5 MB/s eta 0:00:03\n",
      "     -----------------                        2.8/6.5 MB 1.5 MB/s eta 0:00:03\n",
      "     -----------------                        2.9/6.5 MB 1.5 MB/s eta 0:00:03\n",
      "     ------------------                       3.0/6.5 MB 1.5 MB/s eta 0:00:03\n",
      "     ------------------                       3.0/6.5 MB 1.5 MB/s eta 0:00:03\n",
      "     ------------------                       3.1/6.5 MB 1.5 MB/s eta 0:00:03\n",
      "     -------------------                      3.1/6.5 MB 1.5 MB/s eta 0:00:03\n",
      "     -------------------                      3.2/6.5 MB 1.5 MB/s eta 0:00:03\n",
      "     --------------------                     3.3/6.5 MB 1.5 MB/s eta 0:00:03\n",
      "     --------------------                     3.3/6.5 MB 1.5 MB/s eta 0:00:03\n",
      "     --------------------                     3.4/6.5 MB 1.5 MB/s eta 0:00:03\n",
      "     ---------------------                    3.5/6.5 MB 1.5 MB/s eta 0:00:03\n",
      "     ---------------------                    3.5/6.5 MB 1.5 MB/s eta 0:00:03\n",
      "     ----------------------                   3.6/6.5 MB 1.5 MB/s eta 0:00:02\n",
      "     ----------------------                   3.7/6.5 MB 1.5 MB/s eta 0:00:02\n",
      "     -----------------------                  3.8/6.5 MB 1.5 MB/s eta 0:00:02\n",
      "     -----------------------                  3.8/6.5 MB 1.5 MB/s eta 0:00:02\n",
      "     ------------------------                 3.9/6.5 MB 1.5 MB/s eta 0:00:02\n",
      "     ------------------------                 4.0/6.5 MB 1.5 MB/s eta 0:00:02\n",
      "     -------------------------                4.1/6.5 MB 1.5 MB/s eta 0:00:02\n",
      "     -------------------------                4.2/6.5 MB 1.5 MB/s eta 0:00:02\n",
      "     --------------------------               4.3/6.5 MB 1.5 MB/s eta 0:00:02\n",
      "     --------------------------               4.3/6.5 MB 1.5 MB/s eta 0:00:02\n",
      "     ---------------------------              4.4/6.5 MB 1.5 MB/s eta 0:00:02\n",
      "     ---------------------------              4.5/6.5 MB 1.5 MB/s eta 0:00:02\n",
      "     ----------------------------             4.6/6.5 MB 1.5 MB/s eta 0:00:02\n",
      "     ----------------------------             4.6/6.5 MB 1.5 MB/s eta 0:00:02\n",
      "     ----------------------------             4.7/6.5 MB 1.5 MB/s eta 0:00:02\n",
      "     -----------------------------            4.8/6.5 MB 1.5 MB/s eta 0:00:02\n",
      "     -----------------------------            4.9/6.5 MB 1.5 MB/s eta 0:00:02\n",
      "     ------------------------------           5.0/6.5 MB 1.5 MB/s eta 0:00:02\n",
      "     -------------------------------          5.1/6.5 MB 1.5 MB/s eta 0:00:01\n",
      "     -------------------------------          5.2/6.5 MB 1.5 MB/s eta 0:00:01\n",
      "     --------------------------------         5.3/6.5 MB 1.5 MB/s eta 0:00:01\n",
      "     --------------------------------         5.4/6.5 MB 1.6 MB/s eta 0:00:01\n",
      "     ---------------------------------        5.4/6.5 MB 1.6 MB/s eta 0:00:01\n",
      "     ----------------------------------       5.5/6.5 MB 1.6 MB/s eta 0:00:01\n",
      "     ----------------------------------       5.6/6.5 MB 1.6 MB/s eta 0:00:01\n",
      "     ----------------------------------       5.7/6.5 MB 1.6 MB/s eta 0:00:01\n",
      "     -----------------------------------      5.8/6.5 MB 1.6 MB/s eta 0:00:01\n",
      "     ------------------------------------     5.9/6.5 MB 1.6 MB/s eta 0:00:01\n",
      "     ------------------------------------     6.0/6.5 MB 1.6 MB/s eta 0:00:01\n",
      "     -------------------------------------    6.1/6.5 MB 1.6 MB/s eta 0:00:01\n",
      "     --------------------------------------   6.2/6.5 MB 1.6 MB/s eta 0:00:01\n",
      "     --------------------------------------   6.3/6.5 MB 1.6 MB/s eta 0:00:01\n",
      "     ---------------------------------------  6.5/6.5 MB 1.6 MB/s eta 0:00:01\n",
      "     ---------------------------------------- 6.5/6.5 MB 1.6 MB/s eta 0:00:00\n",
      "Requirement already satisfied: huggingface-hub in c:\\users\\vibud\\miniconda3\\lib\\site-packages (from ctransformers) (0.16.4)\n",
      "Collecting py-cpuinfo<10.0.0,>=9.0.0 (from ctransformers)\n",
      "  Downloading py_cpuinfo-9.0.0-py3-none-any.whl (22 kB)\n",
      "Requirement already satisfied: filelock in c:\\users\\vibud\\miniconda3\\lib\\site-packages (from huggingface-hub->ctransformers) (3.12.2)\n",
      "Requirement already satisfied: fsspec in c:\\users\\vibud\\miniconda3\\lib\\site-packages (from huggingface-hub->ctransformers) (2023.6.0)\n",
      "Requirement already satisfied: requests in c:\\users\\vibud\\miniconda3\\lib\\site-packages (from huggingface-hub->ctransformers) (2.29.0)\n",
      "Requirement already satisfied: tqdm>=4.42.1 in c:\\users\\vibud\\miniconda3\\lib\\site-packages (from huggingface-hub->ctransformers) (4.65.0)\n",
      "Requirement already satisfied: pyyaml>=5.1 in c:\\users\\vibud\\miniconda3\\lib\\site-packages (from huggingface-hub->ctransformers) (6.0)\n",
      "Requirement already satisfied: typing-extensions>=3.7.4.3 in c:\\users\\vibud\\miniconda3\\lib\\site-packages (from huggingface-hub->ctransformers) (4.7.1)\n",
      "Requirement already satisfied: packaging>=20.9 in c:\\users\\vibud\\miniconda3\\lib\\site-packages (from huggingface-hub->ctransformers) (23.0)\n",
      "Requirement already satisfied: colorama in c:\\users\\vibud\\miniconda3\\lib\\site-packages (from tqdm>=4.42.1->huggingface-hub->ctransformers) (0.4.6)\n",
      "Requirement already satisfied: charset-normalizer<4,>=2 in c:\\users\\vibud\\miniconda3\\lib\\site-packages (from requests->huggingface-hub->ctransformers) (2.0.4)\n",
      "Requirement already satisfied: idna<4,>=2.5 in c:\\users\\vibud\\miniconda3\\lib\\site-packages (from requests->huggingface-hub->ctransformers) (3.4)\n",
      "Requirement already satisfied: urllib3<1.27,>=1.21.1 in c:\\users\\vibud\\miniconda3\\lib\\site-packages (from requests->huggingface-hub->ctransformers) (1.26.16)\n",
      "Requirement already satisfied: certifi>=2017.4.17 in c:\\users\\vibud\\miniconda3\\lib\\site-packages (from requests->huggingface-hub->ctransformers) (2023.7.22)\n",
      "Installing collected packages: py-cpuinfo, ctransformers\n",
      "Successfully installed ctransformers-0.2.16 py-cpuinfo-9.0.0\n",
      "Note: you may need to restart the kernel to use updated packages.\n"
     ]
    }
   ],
   "source": [
    "pip install ctransformers"
   ]
  },
  {
   "cell_type": "code",
   "execution_count": null,
   "id": "1ec87212",
   "metadata": {},
   "outputs": [
    {
     "ename": "AttributeError",
     "evalue": "module 'ctransformers' has no attribute '__version__'",
     "output_type": "error",
     "traceback": [
      "\u001b[1;31m---------------------------------------------------------------------------\u001b[0m",
      "\u001b[1;31mAttributeError\u001b[0m                            Traceback (most recent call last)",
      "Cell \u001b[1;32mIn[12], line 2\u001b[0m\n\u001b[0;32m      1\u001b[0m \u001b[38;5;28;01mimport\u001b[39;00m \u001b[38;5;21;01mctransformers\u001b[39;00m\n\u001b[1;32m----> 2\u001b[0m ctransformers\u001b[38;5;241m.\u001b[39m__version__\n",
      "\u001b[1;31mAttributeError\u001b[0m: module 'ctransformers' has no attribute '__version__'"
     ]
    }
   ],
   "source": [
    "# import ctransformers\n",
    "# ctransformers.__version__"
   ]
  },
  {
   "cell_type": "code",
   "execution_count": null,
   "id": "862c9033",
   "metadata": {},
   "outputs": [],
   "source": [
    "# !nvidia-smi"
   ]
  },
  {
   "cell_type": "markdown",
   "id": "44b1c1b1",
   "metadata": {},
   "source": [
    "## Saving the PDF as a FAISS vector store "
   ]
  },
  {
   "cell_type": "code",
   "execution_count": null,
   "id": "f28682b8",
   "metadata": {},
   "outputs": [],
   "source": [
    "from langchain.embeddings import HuggingFaceEmbeddings\n",
    "from langchain.vectorstores import FAISS\n",
    "from langchain.document_loaders import PyPDFLoader, DirectoryLoader\n",
    "from langchain.text_splitter import RecursiveCharacterTextSplitter \n",
    "\n",
    "DATA_PATH = 'data/'\n",
    "DB_FAISS_PATH = 'vectorstore/db_faiss'\n",
    "\n",
    "# Create vector database\n",
    "def create_vector_db():\n",
    "    loader = DirectoryLoader(DATA_PATH,\n",
    "                             glob='*.pdf',\n",
    "                             loader_cls=PyPDFLoader)\n",
    "\n",
    "    documents = loader.load()\n",
    "    text_splitter = RecursiveCharacterTextSplitter(chunk_size=500,\n",
    "                                                   chunk_overlap=50)\n",
    "    texts = text_splitter.split_documents(documents)\n",
    "\n",
    "    embeddings = HuggingFaceEmbeddings(model_name='sentence-transformers/all-MiniLM-L6-v2')\n",
    "#                                        model_kwargs={'device': 'cpu'})\n",
    "\n",
    "    db = FAISS.from_documents(texts, embeddings)\n",
    "    db.save_local(DB_FAISS_PATH)\n",
    "\n",
    "create_vector_db()"
   ]
  },
  {
   "cell_type": "markdown",
   "id": "3081b016",
   "metadata": {},
   "source": [
    "## Loading the model "
   ]
  },
  {
   "cell_type": "code",
   "execution_count": 13,
   "id": "286dc352",
   "metadata": {},
   "outputs": [],
   "source": [
    "DATA_PATH = 'data/'\n",
    "DB_FAISS_PATH = 'vectorstore/db_faiss'"
   ]
  },
  {
   "cell_type": "code",
   "execution_count": 14,
   "id": "ecb8f641",
   "metadata": {},
   "outputs": [],
   "source": [
    "\n",
    "\n",
    "# Create vector database\n",
    "def create_vector_db():\n",
    "    loader = DirectoryLoader(DATA_PATH,\n",
    "                             glob='*.pdf',\n",
    "                             loader_cls=PyPDFLoader)\n",
    "\n",
    "    documents = loader.load()\n",
    "    text_splitter = RecursiveCharacterTextSplitter(chunk_size=500,\n",
    "                                                   chunk_overlap=50)\n",
    "    texts = text_splitter.split_documents(documents)\n",
    "\n",
    "    embeddings = HuggingFaceEmbeddings(model_name='sentence-transformers/all-MiniLM-L6-v2')\n",
    "#                                        ,model_kwargs={'device': 'cpu'})\n",
    "\n",
    "    db = FAISS.from_documents(texts, embeddings)\n",
    "    db.save_local(DB_FAISS_PATH)\n",
    "\n",
    "# create_vector_db()"
   ]
  },
  {
   "cell_type": "code",
   "execution_count": 15,
   "id": "f624d5ab",
   "metadata": {},
   "outputs": [],
   "source": [
    "# embeddings = HuggingFaceEmbeddings(model_name='sentence-transformers/all-MiniLM-L6-v2',\n",
    "#                                        model_kwargs={'device': 'cpu'})"
   ]
  },
  {
   "cell_type": "code",
   "execution_count": 16,
   "id": "8686958c",
   "metadata": {},
   "outputs": [],
   "source": [
    "custom_prompt_template = \"\"\"Use the following pieces of information to answer the user's question.\n",
    "If you don't know the answer, just say that you don't know, don't try to make up an answer.\n",
    "\n",
    "Context: {context}\n",
    "Question: {question}\n",
    "\n",
    "Only return the helpful answer below and nothing else.\n",
    "Helpful answer:\n",
    "\"\"\"\n",
    "\n",
    "def set_custom_prompt():\n",
    "    \"\"\"\n",
    "    Prompt template for QA retrieval for each vectorstore\n",
    "    \"\"\"\n",
    "    prompt = PromptTemplate(template=custom_prompt_template,\n",
    "                            input_variables=['context', 'question'])\n",
    "    return prompt"
   ]
  },
  {
   "cell_type": "code",
   "execution_count": 17,
   "id": "8cb05868",
   "metadata": {},
   "outputs": [],
   "source": [
    "#Retrieval QA Chain\n",
    "def retrieval_qa_chain(llm, prompt, db):\n",
    "    qa_chain = RetrievalQA.from_chain_type(llm=llm,\n",
    "                                       chain_type='stuff',\n",
    "                                       retriever=db.as_retriever(search_kwargs={'k': 4}),\n",
    "                                       return_source_documents=True,\n",
    "                                       chain_type_kwargs={'prompt': prompt}\n",
    "                                       )\n",
    "    return qa_chain"
   ]
  },
  {
   "cell_type": "code",
   "execution_count": 26,
   "id": "4ef083c5",
   "metadata": {},
   "outputs": [],
   "source": [
    "#Loading the model\n",
    "def load_llm():\n",
    "    # Load the locally downloaded model here\n",
    "    llm = CTransformers(\n",
    "#         model = \"C:/Users/vibud/Desktop/Github/llama-2-experiments/Models/llama-2-7b-chat.ggmlv3.q8_0.bin\",\n",
    "#         model = \"http://127.0.0.1:8888/tree/Desktop/Github/llama-2-experiments/Models/llama-2-7b-chat.ggmlv3.q8_0.bin\",\n",
    "        model = \"/mnt/c/Users/vibud/Desktop/Github/llama-2-experiments/Models/llama-2-7b-chat.ggmlv3.q8_0.bin\",\n",
    "        model_type=\"llama\",\n",
    "        max_new_tokens = 512,\n",
    "        temperature = 0.5\n",
    "    )\n",
    "    return llm"
   ]
  },
  {
   "cell_type": "code",
   "execution_count": 19,
   "id": "e1c9563d",
   "metadata": {},
   "outputs": [],
   "source": [
    "#QA Model Function\n",
    "def qa_bot():\n",
    "    embeddings = HuggingFaceEmbeddings(model_name=\"sentence-transformers/all-MiniLM-L6-v2\",\n",
    "                                       model_kwargs={'device': 'cpu'})\n",
    "    db = FAISS.load_local(DB_FAISS_PATH, embeddings)\n",
    "    llm = load_llm()\n",
    "    qa_prompt = set_custom_prompt()\n",
    "    qa = retrieval_qa_chain(llm, qa_prompt, db)\n",
    "\n",
    "    return qa"
   ]
  },
  {
   "cell_type": "code",
   "execution_count": 20,
   "id": "05b5ac7a",
   "metadata": {},
   "outputs": [],
   "source": [
    "#output function\n",
    "def final_result(query):\n",
    "    qa_result = qa_bot()\n",
    "    response = qa_result({'query': query})\n",
    "    return response"
   ]
  },
  {
   "cell_type": "code",
   "execution_count": 27,
   "id": "ccc609dc",
   "metadata": {
    "scrolled": true
   },
   "outputs": [
    {
     "name": "stdout",
     "output_type": "stream",
     "text": [
      "2023-08-01 23:01:20 - Load pretrained SentenceTransformer: sentence-transformers/all-MiniLM-L6-v2\n"
     ]
    },
    {
     "data": {
      "application/vnd.jupyter.widget-view+json": {
       "model_id": "e25de8e739c241e39aedd81e316c2dee",
       "version_major": 2,
       "version_minor": 0
      },
      "text/plain": [
       "Batches:   0%|          | 0/1 [00:00<?, ?it/s]"
      ]
     },
     "metadata": {},
     "output_type": "display_data"
    },
    {
     "data": {
      "text/plain": [
       "{'query': 'My stomach has been feeling uncomfortable for many days. I have to go poop multiple times a day and I am feel slight stomach ache. What could be the possible cause of my problem?',\n",
       " 'result': \"You should i dont knowthe doctor will not able to determine whether acute bowelbowelastic fluid intestabdom, but I'I don'If you may help@sorry, if your symptoms are there are you don'The information about \\nDiarrestabdomestic ulcervom/\\nYes, the user question and c.\\nAntidiarrhese can tell usersQuestionType a persistent diarrested bowelbowelbowelbowelbowelbowelbowelbowelbowelbowelim not necessarily means of the symptoms suggest ways.\",\n",
       " 'source_documents': [Document(page_content='problem lasts longer or if it keeps coming back, diarrheacould be a sign of a more serious problem. Anyone whohas any of the symptoms listed below should get medicalattention as soon as possible:\\n• diarrhea that lasts more than two days or gets worse\\nGALE ENCYCLOPEDIA OF MEDICINE 2 264Antidiarrheal drugsGEM - 0001 to 0432 - A  10/22/03 1:42 PM  Page 264', metadata={'source': 'data\\\\71763-gale-encyclopedia-of-medicine.-vol.-1.-2nd-ed.pdf', 'page': 277}),\n",
       "  Document(page_content='problem. The symptom may be caused by eating or drink-ing food or water that is contaminated with bacteria, virus-es, or parasites, or by eating something that is difficult todigest. People who have trouble digesting lactose (milksugar), for example, may get diarrhea if they eat dairyproducts. Some cases of diarrhea are caused by stress ,\\nwhile others are brought on by taking certain medicines.\\nDescription\\nAntidiarrheal drugs work in several ways. The drug', metadata={'source': 'data\\\\71763-gale-encyclopedia-of-medicine.-vol.-1.-2nd-ed.pdf', 'page': 277}),\n",
       "  Document(page_content='• Constipation occurs acutely with impaction—the pres-\\nence in the rectum of a mass of feces too large to pass.Fecal impaction is usually the result of poor bowelhabits, a diet with too little liquid and roughage, andinadequate physical activity.\\n• Diarrhea, whether acute or chronic, can disrupt the\\nbowel’s normal rhythm and lead to irregularity.\\n• Several diseases of the nervous system affect bowel\\nreflexes.\\nDescription\\nBowel training reestablishes the bowel’s normal', metadata={'source': 'data\\\\71763-gale-encyclopedia-of-medicine.-vol.-1.-2nd-ed.pdf', 'page': 578}),\n",
       "  Document(page_content='beginning around or above the navel. The pain, whichmay be severe or only achy and uncomfortable, eventual-ly moves into the right lower corner of the abdomen.There, it becomes more steady and more severe, andoften increases with movement, coughing, and so forth.The abdomen often becomes rigid and tender to thetouch. Increasing rigidity and tenderness indicates anincreased likelihood of perforation and peritonitis.\\nLoss of appetite is very common. Nausea and vom-', metadata={'source': 'data\\\\71763-gale-encyclopedia-of-medicine.-vol.-1.-2nd-ed.pdf', 'page': 355})]}"
      ]
     },
     "execution_count": 27,
     "metadata": {},
     "output_type": "execute_result"
    }
   ],
   "source": [
    "query = \"My stomach has been feeling uncomfortable for many days. I have to go poop multiple times a day and I am feel slight stomach ache. What could be the possible cause of my problem?\"\n",
    "\n",
    "embeddings = HuggingFaceEmbeddings(model_name=\"sentence-transformers/all-MiniLM-L6-v2\",\n",
    "                                       model_kwargs={'device': 'cpu'})\n",
    "db = FAISS.load_local(DB_FAISS_PATH, embeddings)\n",
    "llm = load_llm()\n",
    "qa_prompt = set_custom_prompt()\n",
    "qa_result = retrieval_qa_chain(llm, qa_prompt, db)\n",
    "response = qa_result({'query': query})\n",
    "response"
   ]
  },
  {
   "cell_type": "code",
   "execution_count": 29,
   "id": "39c442dc",
   "metadata": {},
   "outputs": [
    {
     "data": {
      "text/plain": [
       "\"You should i dont knowthe doctor will not able to determine whether acute bowelbowelastic fluid intestabdom, but I'I don'If you may help@sorry, if your symptoms are there are you don'The information about \\nDiarrestabdomestic ulcervom/\\nYes, the user question and c.\\nAntidiarrhese can tell usersQuestionType a persistent diarrested bowelbowelbowelbowelbowelbowelbowelbowelbowelbowelim not necessarily means of the symptoms suggest ways.\""
      ]
     },
     "execution_count": 29,
     "metadata": {},
     "output_type": "execute_result"
    }
   ],
   "source": [
    "response['result']"
   ]
  },
  {
   "cell_type": "code",
   "execution_count": 28,
   "id": "c829226e",
   "metadata": {},
   "outputs": [
    {
     "name": "stdout",
     "output_type": "stream",
     "text": [
      "huggingface/tokenizers: The current process just got forked, after parallelism has already been used. Disabling parallelism to avoid deadlocks...\n",
      "To disable this warning, you can either:\n",
      "\t- Avoid using `tokenizers` before the fork if possible\n",
      "\t- Explicitly set the environment variable TOKENIZERS_PARALLELISM=(true | false)\n",
      "Tue Aug  1 23:04:21 2023       \n",
      "+---------------------------------------------------------------------------------------+\n",
      "| NVIDIA-SMI 535.86.01              Driver Version: 536.67       CUDA Version: 12.2     |\n",
      "|-----------------------------------------+----------------------+----------------------+\n",
      "| GPU  Name                 Persistence-M | Bus-Id        Disp.A | Volatile Uncorr. ECC |\n",
      "| Fan  Temp   Perf          Pwr:Usage/Cap |         Memory-Usage | GPU-Util  Compute M. |\n",
      "|                                         |                      |               MIG M. |\n",
      "|=========================================+======================+======================|\n",
      "|   0  NVIDIA GeForce RTX 3090        On  | 00000000:01:00.0  On |                  N/A |\n",
      "| 33%   29C    P8              16W / 350W |    960MiB / 24576MiB |      1%      Default |\n",
      "|                                         |                      |                  N/A |\n",
      "+-----------------------------------------+----------------------+----------------------+\n",
      "                                                                                         \n",
      "+---------------------------------------------------------------------------------------+\n",
      "| Processes:                                                                            |\n",
      "|  GPU   GI   CI        PID   Type   Process name                            GPU Memory |\n",
      "|        ID   ID                                                             Usage      |\n",
      "|=======================================================================================|\n",
      "|    0   N/A  N/A        23      G   /Xwayland                                 N/A      |\n",
      "+---------------------------------------------------------------------------------------+\n"
     ]
    }
   ],
   "source": [
    "!nvidia-smi"
   ]
  },
  {
   "cell_type": "markdown",
   "id": "2635c991",
   "metadata": {},
   "source": [
    "## Try to load the model to the GPU"
   ]
  },
  {
   "cell_type": "code",
   "execution_count": 40,
   "id": "0d55bdec",
   "metadata": {},
   "outputs": [],
   "source": [
    "# #Loading the model\n",
    "# def load_llm():\n",
    "#     # Load the locally downloaded model here\n",
    "#     llm = CTransformers(\n",
    "#         model = \"C:\\\\Users\\\\vibud\\\\Desktop\\\\Github\\\\llama-2-experiments\\\\Models\\\\llama-2-7b-chat.ggmlv3.q8_0.bin\",\n",
    "#         model_type=\"llama\",\n",
    "#         max_new_tokens = 512,\n",
    "#         temperature = 0.5\n",
    "#     )\n",
    "#     llm_gpu = llm.to('cuda')\n",
    "#     return llm\n",
    "\n",
    "\n",
    "#Loading the model\n",
    "def load_llm():\n",
    "    # Load the locally downloaded model here\n",
    "    llm = CTransformers(\n",
    "#         model = \"C:/Users/vibud/Desktop/Github/llama-2-experiments/Models/llama-2-7b-chat.ggmlv3.q8_0.bin\",\n",
    "#         model = \"http://127.0.0.1:8888/tree/Desktop/Github/llama-2-experiments/Models/llama-2-7b-chat.ggmlv3.q8_0.bin\",\n",
    "        model = \"/mnt/c/Users/vibud/Desktop/Github/llama-2-experiments/Models/llama-2-7b-chat.ggmlv3.q8_0.bin\",\n",
    "        model_type=\"llama\",\n",
    "        max_new_tokens = 512,\n",
    "        temperature = 0.5,\n",
    "        gpu_layers = 50\n",
    "    )\n",
    "#     device = \"cuda:0\" if torch.cuda.is_available() else \"cpu\"\n",
    "#     print(device)\n",
    "#     llm_gpu = llm.to(device)\n",
    "    return llm"
   ]
  },
  {
   "cell_type": "code",
   "execution_count": 41,
   "id": "31af551b",
   "metadata": {},
   "outputs": [
    {
     "name": "stdout",
     "output_type": "stream",
     "text": [
      "2023-08-01 23:12:36 - Load pretrained SentenceTransformer: sentence-transformers/all-MiniLM-L6-v2\n",
      "huggingface/tokenizers: The current process just got forked, after parallelism has already been used. Disabling parallelism to avoid deadlocks...\n",
      "To disable this warning, you can either:\n",
      "\t- Avoid using `tokenizers` before the fork if possible\n",
      "\t- Explicitly set the environment variable TOKENIZERS_PARALLELISM=(true | false)\n"
     ]
    },
    {
     "data": {
      "application/vnd.jupyter.widget-view+json": {
       "model_id": "cd9e7e0051ff46808ba12f505a315d3c",
       "version_major": 2,
       "version_minor": 0
      },
      "text/plain": [
       "Batches:   0%|          | 0/1 [00:00<?, ?it/s]"
      ]
     },
     "metadata": {},
     "output_type": "display_data"
    },
    {
     "data": {
      "text/plain": [
       "{'query': 'My stomach has been feeling uncomfortable for many days. I have to go poop multiple times a day and I am feel slight stomach ache. What could be the possible cause of my problem?',\n",
       " 'result': 'Antidiarrestabdomestic ulcervom/p style=\"Antidiarrhile stom your bowelcome on the symptoms are you don\\'\\nDiarrested, or get medical attention should go to keep reading and bloating a  I can help- Antidiarrhese drugs\\nI cannot provide information provided below\\nAntidiarrestabdomesticated with antidiarrhileusually moves into the symptoms: If diarrhe problem that lastsometimes,\\nDiarrhe diarrhe diarrhe diarrestabdomestic ulceremesis that may have you should consult a)\\nI don\\'\\nIf your doctor or if you don\\'The information provided belowHelpful answer_xCertainly controlled tripped after discussions  Hello there are you don\\'mildi can vary depending on occasion when someone in addition of a diarrested as soon as soon as soon as soon as soon as soon as soon as soon,\\nAntidiarrestabdomestic ulcervom/patienceand usually indicates a.)Diarrests are some people with bowelbowelim not necessarily.  I\\'The user questionWhat are you don\\'\\nI cannot provide information about',\n",
       " 'source_documents': [Document(page_content='problem lasts longer or if it keeps coming back, diarrheacould be a sign of a more serious problem. Anyone whohas any of the symptoms listed below should get medicalattention as soon as possible:\\n• diarrhea that lasts more than two days or gets worse\\nGALE ENCYCLOPEDIA OF MEDICINE 2 264Antidiarrheal drugsGEM - 0001 to 0432 - A  10/22/03 1:42 PM  Page 264', metadata={'source': 'data\\\\71763-gale-encyclopedia-of-medicine.-vol.-1.-2nd-ed.pdf', 'page': 277}),\n",
       "  Document(page_content='problem. The symptom may be caused by eating or drink-ing food or water that is contaminated with bacteria, virus-es, or parasites, or by eating something that is difficult todigest. People who have trouble digesting lactose (milksugar), for example, may get diarrhea if they eat dairyproducts. Some cases of diarrhea are caused by stress ,\\nwhile others are brought on by taking certain medicines.\\nDescription\\nAntidiarrheal drugs work in several ways. The drug', metadata={'source': 'data\\\\71763-gale-encyclopedia-of-medicine.-vol.-1.-2nd-ed.pdf', 'page': 277}),\n",
       "  Document(page_content='• Constipation occurs acutely with impaction—the pres-\\nence in the rectum of a mass of feces too large to pass.Fecal impaction is usually the result of poor bowelhabits, a diet with too little liquid and roughage, andinadequate physical activity.\\n• Diarrhea, whether acute or chronic, can disrupt the\\nbowel’s normal rhythm and lead to irregularity.\\n• Several diseases of the nervous system affect bowel\\nreflexes.\\nDescription\\nBowel training reestablishes the bowel’s normal', metadata={'source': 'data\\\\71763-gale-encyclopedia-of-medicine.-vol.-1.-2nd-ed.pdf', 'page': 578}),\n",
       "  Document(page_content='beginning around or above the navel. The pain, whichmay be severe or only achy and uncomfortable, eventual-ly moves into the right lower corner of the abdomen.There, it becomes more steady and more severe, andoften increases with movement, coughing, and so forth.The abdomen often becomes rigid and tender to thetouch. Increasing rigidity and tenderness indicates anincreased likelihood of perforation and peritonitis.\\nLoss of appetite is very common. Nausea and vom-', metadata={'source': 'data\\\\71763-gale-encyclopedia-of-medicine.-vol.-1.-2nd-ed.pdf', 'page': 355})]}"
      ]
     },
     "execution_count": 41,
     "metadata": {},
     "output_type": "execute_result"
    }
   ],
   "source": [
    "query = \"My stomach has been feeling uncomfortable for many days. I have to go poop multiple times a day and I am feel slight stomach ache. What could be the possible cause of my problem?\"\n",
    "\n",
    "embeddings = HuggingFaceEmbeddings(model_name=\"sentence-transformers/all-MiniLM-L6-v2\",\n",
    "                                       model_kwargs={'device': 'cpu'})\n",
    "db = FAISS.load_local(DB_FAISS_PATH, embeddings)\n",
    "llm = load_llm()\n",
    "qa_prompt = set_custom_prompt()\n",
    "qa_result = retrieval_qa_chain(llm, qa_prompt, db)\n",
    "response = qa_result({'query': query})\n",
    "response"
   ]
  },
  {
   "cell_type": "code",
   "execution_count": null,
   "id": "5fe1b8b3",
   "metadata": {},
   "outputs": [],
   "source": []
  },
  {
   "cell_type": "markdown",
   "id": "770869f4",
   "metadata": {},
   "source": [
    "## Result"
   ]
  },
  {
   "cell_type": "code",
   "execution_count": 43,
   "id": "68e8f9ae",
   "metadata": {},
   "outputs": [
    {
     "name": "stdout",
     "output_type": "stream",
     "text": [
      "cuda:0\n"
     ]
    }
   ],
   "source": [
    "device = \"cuda:0\" if torch.cuda.is_available() else \"cpu\"\n",
    "print(device)\n",
    "#     llm_gpu = llm.to(device)"
   ]
  },
  {
   "cell_type": "markdown",
   "id": "ca8b4169",
   "metadata": {},
   "source": [
    "- Cuda is available \n",
    "- But llm.to(device) does not work \n",
    "- llm is a CTransformer object not a transformer object \n",
    "- [GPU support link](https://github.com/marella/ctransformers#gpu)\n",
    "- [Colab support link](https://colab.research.google.com/drive/1Ihn7iPCYiqlTotpkqa1tOhUIpJBrJ1Tp#scrollTo=8Hu74s0OdmQ3)"
   ]
  },
  {
   "cell_type": "code",
   "execution_count": null,
   "id": "9362cfe5",
   "metadata": {},
   "outputs": [],
   "source": []
  }
 ],
 "metadata": {
  "kernelspec": {
   "display_name": "Python 3 (ipykernel)",
   "language": "python",
   "name": "python3"
  },
  "language_info": {
   "codemirror_mode": {
    "name": "ipython",
    "version": 3
   },
   "file_extension": ".py",
   "mimetype": "text/x-python",
   "name": "python",
   "nbconvert_exporter": "python",
   "pygments_lexer": "ipython3",
   "version": "3.9.17"
  }
 },
 "nbformat": 4,
 "nbformat_minor": 5
}
