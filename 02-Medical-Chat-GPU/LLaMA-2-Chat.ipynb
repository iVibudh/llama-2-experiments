{
 "cells": [
  {
   "cell_type": "code",
   "execution_count": 1,
   "id": "2ac25d29",
   "metadata": {
    "scrolled": true,
    "tags": []
   },
   "outputs": [],
   "source": [
    "from langchain.document_loaders import PyPDFLoader, DirectoryLoader\n",
    "from langchain import PromptTemplate\n",
    "from langchain.embeddings import HuggingFaceEmbeddings\n",
    "from langchain.vectorstores import FAISS\n",
    "from langchain.llms import CTransformers, ctransformers\n",
    "from langchain.chains import RetrievalQA\n",
    "\n",
    "import chainlit as cl\n",
    "\n",
    "from langchain.text_splitter import RecursiveCharacterTextSplitter "
   ]
  },
  {
   "cell_type": "markdown",
   "id": "ff2914d0",
   "metadata": {},
   "source": [
    "## check GGPU access\n",
    "imnpot torch \n",
    "print(torch.cuda.__is_available__)\n",
    "1+1"
   ]
  },
  {
   "cell_type": "code",
   "execution_count": 2,
   "id": "b445a3c0",
   "metadata": {
    "tags": []
   },
   "outputs": [
    {
     "data": {
      "text/plain": [
       "False"
      ]
     },
     "execution_count": 2,
     "metadata": {},
     "output_type": "execute_result"
    }
   ],
   "source": [
    "import torch\n",
    "torch.cuda.is_available()"
   ]
  },
  {
   "cell_type": "code",
   "execution_count": 3,
   "id": "bc0580ae",
   "metadata": {
    "tags": []
   },
   "outputs": [
    {
     "name": "stdout",
     "output_type": "stream",
     "text": [
      "cpu\n"
     ]
    }
   ],
   "source": [
    "device = \"cuda:0\" if torch.cuda.is_available() else \"cpu\"\n",
    "print(device)\n",
    "#     llm_gpu = llm.to(device)"
   ]
  },
  {
   "cell_type": "code",
   "execution_count": 4,
   "id": "3193f0a9",
   "metadata": {
    "tags": []
   },
   "outputs": [],
   "source": [
    "# pip install sentence_transformers"
   ]
  },
  {
   "cell_type": "code",
   "execution_count": null,
   "id": "4d4a4c1c",
   "metadata": {},
   "outputs": [],
   "source": []
  },
  {
   "cell_type": "code",
   "execution_count": 5,
   "id": "5522f697",
   "metadata": {
    "tags": []
   },
   "outputs": [],
   "source": [
    "#### requirements.txt\n",
    "# langchain==0.0.247\n",
    "# chainlit==0.6.1\n",
    "# pypdf==3.14.0\n",
    "# faiss-cpu == 1.7.4\n",
    "# transformers==4.31.0\n",
    "# ctransformers #ctransformers-0.2.16-0.2.16\n",
    "# sentence_transformers\n",
    "# torch #'2.0.1+cpu'\n",
    "\n",
    "# #accelerate\n",
    "# #bitsandbytes"
   ]
  },
  {
   "cell_type": "code",
   "execution_count": 6,
   "id": "9fdf34ec",
   "metadata": {
    "tags": []
   },
   "outputs": [
    {
     "data": {
      "text/plain": [
       "'2.0.1+cpu'"
      ]
     },
     "execution_count": 6,
     "metadata": {},
     "output_type": "execute_result"
    }
   ],
   "source": [
    "import torch\n",
    "torch.__version__"
   ]
  },
  {
   "cell_type": "code",
   "execution_count": 7,
   "id": "3d38b08e",
   "metadata": {
    "tags": []
   },
   "outputs": [
    {
     "data": {
      "text/plain": [
       "False"
      ]
     },
     "execution_count": 7,
     "metadata": {},
     "output_type": "execute_result"
    }
   ],
   "source": [
    "import torch\n",
    "torch.cuda.is_available()"
   ]
  },
  {
   "cell_type": "code",
   "execution_count": 8,
   "id": "0629899a",
   "metadata": {
    "tags": []
   },
   "outputs": [],
   "source": [
    "# import cuda\n",
    "# cuda.__version__"
   ]
  },
  {
   "cell_type": "code",
   "execution_count": 9,
   "id": "a327eba5",
   "metadata": {
    "tags": []
   },
   "outputs": [],
   "source": [
    "# device = torch.device\"cpu'AttributeError"
   ]
  },
  {
   "cell_type": "code",
   "execution_count": 10,
   "id": "970c48ec",
   "metadata": {
    "tags": []
   },
   "outputs": [
    {
     "name": "stdout",
     "output_type": "stream",
     "text": [
      "Mon Sep  4 19:56:18 2023       \n",
      "+---------------------------------------------------------------------------------------+\n",
      "| NVIDIA-SMI 536.99                 Driver Version: 536.99       CUDA Version: 12.2     |\n",
      "|-----------------------------------------+----------------------+----------------------+\n",
      "| GPU  Name                     TCC/WDDM  | Bus-Id        Disp.A | Volatile Uncorr. ECC |\n",
      "| Fan  Temp   Perf          Pwr:Usage/Cap |         Memory-Usage | GPU-Util  Compute M. |\n",
      "|                                         |                      |               MIG M. |\n",
      "|=========================================+======================+======================|\n",
      "|   0  NVIDIA GeForce RTX 3090      WDDM  | 00000000:01:00.0  On |                  N/A |\n",
      "| 33%   24C    P8              15W / 245W |  10347MiB / 24576MiB |      7%      Default |\n",
      "|                                         |                      |                  N/A |\n",
      "+-----------------------------------------+----------------------+----------------------+\n",
      "                                                                                         \n",
      "+---------------------------------------------------------------------------------------+\n",
      "| Processes:                                                                            |\n",
      "|  GPU   GI   CI        PID   Type   Process name                            GPU Memory |\n",
      "|        ID   ID                                                             Usage      |\n",
      "|=======================================================================================|\n",
      "|    0   N/A  N/A      2088    C+G   ...2txyewy\\StartMenuExperienceHost.exe    N/A      |\n",
      "|    0   N/A  N/A      3680    C+G   ...Programs\\Microsoft VS Code\\Code.exe    N/A      |\n",
      "|    0   N/A  N/A      7932    C+G   C:\\Windows\\explorer.exe                   N/A      |\n",
      "|    0   N/A  N/A      8404    C+G   ...GeForce Experience\\NVIDIA Share.exe    N/A      |\n",
      "|    0   N/A  N/A      8588    C+G   ...nt.CBS_cw5n1h2txyewy\\SearchHost.exe    N/A      |\n",
      "|    0   N/A  N/A     10556      C   ...vibud\\miniconda3\\envs\\tg\\python.exe    N/A      |\n",
      "|    0   N/A  N/A     10976    C+G   ...t.LockApp_cw5n1h2txyewy\\LockApp.exe    N/A      |\n",
      "|    0   N/A  N/A     13432    C+G   ...crosoft\\Edge\\Application\\msedge.exe    N/A      |\n",
      "|    0   N/A  N/A     13952    C+G   ...on\\116.0.1938.69\\msedgewebview2.exe    N/A      |\n",
      "|    0   N/A  N/A     14152    C+G   ...5n1h2txyewy\\ShellExperienceHost.exe    N/A      |\n",
      "|    0   N/A  N/A     14192    C+G   ...__8wekyb3d8bbwe\\WindowsTerminal.exe    N/A      |\n",
      "|    0   N/A  N/A     14304    C+G   ...__8wekyb3d8bbwe\\WindowsTerminal.exe    N/A      |\n",
      "|    0   N/A  N/A     14604    C+G   ...__8wekyb3d8bbwe\\WindowsTerminal.exe    N/A      |\n",
      "|    0   N/A  N/A     14912    C+G   ...CBS_cw5n1h2txyewy\\TextInputHost.exe    N/A      |\n",
      "|    0   N/A  N/A     16120    C+G   ...on\\116.0.1938.69\\msedgewebview2.exe    N/A      |\n",
      "|    0   N/A  N/A     22084    C+G   ...oogle\\Chrome\\Application\\chrome.exe    N/A      |\n",
      "+---------------------------------------------------------------------------------------+\n"
     ]
    }
   ],
   "source": [
    "!nvidia-smi"
   ]
  },
  {
   "cell_type": "code",
   "execution_count": 11,
   "id": "547094d2",
   "metadata": {
    "tags": []
   },
   "outputs": [
    {
     "data": {
      "text/plain": [
       "'0.0.270'"
      ]
     },
     "execution_count": 11,
     "metadata": {},
     "output_type": "execute_result"
    }
   ],
   "source": [
    "# pip install langchain\n",
    "import langchain\n",
    "langchain.__version__"
   ]
  },
  {
   "cell_type": "code",
   "execution_count": 12,
   "id": "5f3c0d29",
   "metadata": {
    "tags": []
   },
   "outputs": [
    {
     "data": {
      "text/plain": [
       "'0.6.2'"
      ]
     },
     "execution_count": 12,
     "metadata": {},
     "output_type": "execute_result"
    }
   ],
   "source": [
    "# pip install chainlit\n",
    "cl.__version__"
   ]
  },
  {
   "cell_type": "code",
   "execution_count": 13,
   "id": "36573030",
   "metadata": {
    "tags": []
   },
   "outputs": [],
   "source": [
    "# pip install sentence_transformers"
   ]
  },
  {
   "cell_type": "code",
   "execution_count": 16,
   "id": "4721f413",
   "metadata": {
    "tags": []
   },
   "outputs": [
    {
     "data": {
      "text/plain": [
       "'3.15.5'"
      ]
     },
     "execution_count": 16,
     "metadata": {},
     "output_type": "execute_result"
    }
   ],
   "source": [
    "# pip install pypdf\n",
    "import pypdf\n",
    "pypdf.__version__"
   ]
  },
  {
   "cell_type": "code",
   "execution_count": 22,
   "id": "2d7434cf",
   "metadata": {
    "tags": []
   },
   "outputs": [],
   "source": [
    "# !pip install faiss-cpu\n",
    "# import faiss-cpu\n",
    "#faiss-cpu == 1.7.4"
   ]
  },
  {
   "cell_type": "code",
   "execution_count": 24,
   "id": "4d1a6fb3",
   "metadata": {
    "tags": []
   },
   "outputs": [],
   "source": [
    "# pip install transformers"
   ]
  },
  {
   "cell_type": "code",
   "execution_count": 25,
   "id": "563b4606",
   "metadata": {
    "tags": []
   },
   "outputs": [
    {
     "data": {
      "text/plain": [
       "'4.31.0'"
      ]
     },
     "execution_count": 25,
     "metadata": {},
     "output_type": "execute_result"
    }
   ],
   "source": [
    "import transformers\n",
    "transformers.__version__"
   ]
  },
  {
   "cell_type": "code",
   "execution_count": 26,
   "id": "0ba81514",
   "metadata": {
    "tags": []
   },
   "outputs": [],
   "source": [
    "# pip install ctransformers"
   ]
  },
  {
   "cell_type": "code",
   "execution_count": 27,
   "id": "1ec87212",
   "metadata": {
    "tags": []
   },
   "outputs": [],
   "source": [
    "# import ctransformers\n",
    "# ctransformers.__version__"
   ]
  },
  {
   "cell_type": "code",
   "execution_count": 28,
   "id": "862c9033",
   "metadata": {
    "tags": []
   },
   "outputs": [],
   "source": [
    "# !nvidia-smi"
   ]
  },
  {
   "cell_type": "markdown",
   "id": "44b1c1b1",
   "metadata": {},
   "source": [
    "## Saving the PDF as a FAISS vector store "
   ]
  },
  {
   "cell_type": "code",
   "execution_count": 30,
   "id": "f28682b8",
   "metadata": {
    "tags": []
   },
   "outputs": [
    {
     "name": "stdout",
     "output_type": "stream",
     "text": [
      "2023-09-04 19:59:28 - Load pretrained SentenceTransformer: sentence-transformers/all-MiniLM-L6-v2\n",
      "2023-09-04 19:59:28 - Use pytorch device: cpu\n"
     ]
    },
    {
     "data": {
      "application/vnd.jupyter.widget-view+json": {
       "model_id": "736c770bb568463aa9440d4248254345",
       "version_major": 2,
       "version_minor": 0
      },
      "text/plain": [
       "Batches:   0%|          | 0/224 [00:00<?, ?it/s]"
      ]
     },
     "metadata": {},
     "output_type": "display_data"
    },
    {
     "name": "stdout",
     "output_type": "stream",
     "text": [
      "2023-09-04 20:03:46 - Loading faiss with AVX2 support.\n",
      "2023-09-04 20:03:46 - Could not load library with AVX2 support due to:\n",
      "ModuleNotFoundError(\"No module named 'faiss.swigfaiss_avx2'\")\n",
      "2023-09-04 20:03:46 - Loading faiss.\n",
      "2023-09-04 20:03:46 - Successfully loaded faiss.\n"
     ]
    }
   ],
   "source": [
    "from langchain.embeddings import HuggingFaceEmbeddings\n",
    "from langchain.vectorstores import FAISS\n",
    "from langchain.document_loaders import PyPDFLoader, DirectoryLoader\n",
    "from langchain.text_splitter import RecursiveCharacterTextSplitter \n",
    "\n",
    "DATA_PATH = 'data/'\n",
    "DB_FAISS_PATH = 'vectorstore/db_faiss'\n",
    "\n",
    "# Create vector database\n",
    "def create_vector_db():\n",
    "    loader = DirectoryLoader(DATA_PATH,\n",
    "                             glob='*.pdf',\n",
    "                             loader_cls=PyPDFLoader)\n",
    "\n",
    "    documents = loader.load()\n",
    "    text_splitter = RecursiveCharacterTextSplitter(chunk_size=500,\n",
    "                                                   chunk_overlap=50)\n",
    "    texts = text_splitter.split_documents(documents)\n",
    "\n",
    "    embeddings = HuggingFaceEmbeddings(model_name='sentence-transformers/all-MiniLM-L6-v2')\n",
    "#                                        model_kwargs={'device': 'cpu'})\n",
    "\n",
    "    db = FAISS.from_documents(texts, embeddings)\n",
    "    db.save_local(DB_FAISS_PATH)\n",
    "\n",
    "create_vector_db()"
   ]
  },
  {
   "cell_type": "markdown",
   "id": "3081b016",
   "metadata": {},
   "source": [
    "## Loading the model "
   ]
  },
  {
   "cell_type": "code",
   "execution_count": 31,
   "id": "286dc352",
   "metadata": {
    "tags": []
   },
   "outputs": [],
   "source": [
    "DATA_PATH = 'data/'\n",
    "DB_FAISS_PATH = 'vectorstore/db_faiss'"
   ]
  },
  {
   "cell_type": "code",
   "execution_count": 32,
   "id": "ecb8f641",
   "metadata": {
    "tags": []
   },
   "outputs": [],
   "source": [
    "\n",
    "\n",
    "# Create vector database\n",
    "def create_vector_db():\n",
    "    loader = DirectoryLoader(DATA_PATH,\n",
    "                             glob='*.pdf',\n",
    "                             loader_cls=PyPDFLoader)\n",
    "\n",
    "    documents = loader.load()\n",
    "    text_splitter = RecursiveCharacterTextSplitter(chunk_size=500,\n",
    "                                                   chunk_overlap=50)\n",
    "    texts = text_splitter.split_documents(documents)\n",
    "\n",
    "    embeddings = HuggingFaceEmbeddings(model_name='sentence-transformers/all-MiniLM-L6-v2')\n",
    "#                                        ,model_kwargs={'device': 'cpu'})\n",
    "\n",
    "    db = FAISS.from_documents(texts, embeddings)\n",
    "    db.save_local(DB_FAISS_PATH)\n",
    "\n",
    "# create_vector_db()"
   ]
  },
  {
   "cell_type": "code",
   "execution_count": 33,
   "id": "f624d5ab",
   "metadata": {
    "tags": []
   },
   "outputs": [],
   "source": [
    "# embeddings = HuggingFaceEmbeddings(model_name='sentence-transformers/all-MiniLM-L6-v2',\n",
    "#                                        model_kwargs={'device': 'cpu'})"
   ]
  },
  {
   "cell_type": "code",
   "execution_count": 34,
   "id": "8686958c",
   "metadata": {
    "tags": []
   },
   "outputs": [],
   "source": [
    "custom_prompt_template = \"\"\"Use the following pieces of information to answer the user's question.\n",
    "If you don't know the answer, just say that you don't know, don't try to make up an answer.\n",
    "\n",
    "Context: {context}\n",
    "Question: {question}\n",
    "\n",
    "Only return the helpful answer below and nothing else.\n",
    "Helpful answer:\n",
    "\"\"\"\n",
    "\n",
    "def set_custom_prompt():\n",
    "    \"\"\"\n",
    "    Prompt template for QA retrieval for each vectorstore\n",
    "    \"\"\"\n",
    "    prompt = PromptTemplate(template=custom_prompt_template,\n",
    "                            input_variables=['context', 'question'])\n",
    "    return prompt"
   ]
  },
  {
   "cell_type": "code",
   "execution_count": 35,
   "id": "8cb05868",
   "metadata": {
    "tags": []
   },
   "outputs": [],
   "source": [
    "#Retrieval QA Chain\n",
    "def retrieval_qa_chain(llm, prompt, db):\n",
    "    qa_chain = RetrievalQA.from_chain_type(llm=llm,\n",
    "                                       chain_type='stuff',\n",
    "                                       retriever=db.as_retriever(search_kwargs={'k': 4}),\n",
    "                                       return_source_documents=True,\n",
    "                                       chain_type_kwargs={'prompt': prompt}\n",
    "                                       )\n",
    "    return qa_chain"
   ]
  },
  {
   "cell_type": "code",
   "execution_count": 37,
   "id": "4ef083c5",
   "metadata": {
    "tags": []
   },
   "outputs": [],
   "source": [
    "#Loading the model\n",
    "def load_llm():\n",
    "    # Load the locally downloaded model here\n",
    "#     llm = CTransformers(\n",
    "# #         model = \"C:/Users/vibud/Desktop/Github/llama-2-experiments/Models/llama-2-7b-chat.ggmlv3.q8_0.bin\",\n",
    "# #         model = \"http://127.0.0.1:8888/tree/Desktop/Github/llama-2-experiments/Models/llama-2-7b-chat.ggmlv3.q8_0.bin\",\n",
    "#         model = \"/mnt/c/Users/vibud/Desktop/Github/llama-2-experiments/Models/llama-2-7b-chat.ggmlv3.q8_0.bin\",\n",
    "#         model_type=\"llama\",\n",
    "#         max_new_tokens = 512,\n",
    "#         temperature = 0.5\n",
    "#     )\n",
    "    llm = complex_model_load(\"TheBloke_Llama-2-13B-chat-GPTQ\")\n",
    "    return llm"
   ]
  },
  {
   "cell_type": "code",
   "execution_count": 38,
   "id": "e1c9563d",
   "metadata": {
    "tags": []
   },
   "outputs": [],
   "source": [
    "#QA Model Function\n",
    "def qa_bot():\n",
    "    embeddings = HuggingFaceEmbeddings(model_name=\"sentence-transformers/all-MiniLM-L6-v2\",\n",
    "                                       model_kwargs={'device': 'cpu'})\n",
    "    db = FAISS.load_local(DB_FAISS_PATH, embeddings)\n",
    "    llm = load_llm()\n",
    "    qa_prompt = set_custom_prompt()\n",
    "    qa = retrieval_qa_chain(llm, qa_prompt, db)\n",
    "\n",
    "    return qa"
   ]
  },
  {
   "cell_type": "code",
   "execution_count": 39,
   "id": "05b5ac7a",
   "metadata": {
    "tags": []
   },
   "outputs": [],
   "source": [
    "#output function\n",
    "def final_result(query):\n",
    "    qa_result = qa_bot()\n",
    "    response = qa_result({'query': query})\n",
    "    return response"
   ]
  },
  {
   "cell_type": "code",
   "execution_count": 41,
   "id": "ccc609dc",
   "metadata": {
    "scrolled": true,
    "tags": []
   },
   "outputs": [
    {
     "name": "stdout",
     "output_type": "stream",
     "text": [
      "2023-09-04 20:08:53 - Load pretrained SentenceTransformer: sentence-transformers/all-MiniLM-L6-v2\n"
     ]
    },
    {
     "data": {
      "text/plain": [
       "PromptTemplate(input_variables=['context', 'question'], output_parser=None, partial_variables={}, template=\"Use the following pieces of information to answer the user's question.\\nIf you don't know the answer, just say that you don't know, don't try to make up an answer.\\n\\nContext: {context}\\nQuestion: {question}\\n\\nOnly return the helpful answer below and nothing else.\\nHelpful answer:\\n\", template_format='f-string', validate_template=True)"
      ]
     },
     "execution_count": 41,
     "metadata": {},
     "output_type": "execute_result"
    }
   ],
   "source": [
    "query = \"My stomach has been feeling uncomfortable for many days. I have to go poop multiple times a day and I am feel slight stomach ache. What could be the possible cause of my problem?\"\n",
    "\n",
    "embeddings = HuggingFaceEmbeddings(model_name=\"sentence-transformers/all-MiniLM-L6-v2\",\n",
    "                                       model_kwargs={'device': 'cpu'})\n",
    "db = FAISS.load_local(DB_FAISS_PATH, embeddings)\n",
    "llm = load_llm()\n",
    "qa_prompt = set_custom_prompt()\n",
    "qa_prompt"
   ]
  },
  {
   "cell_type": "code",
   "execution_count": null,
   "id": "5cb9d473-33cc-4b70-ae54-e2805634666f",
   "metadata": {},
   "outputs": [],
   "source": [
    "qa_result = retrieval_qa_chain(llm, qa_prompt, db)\n",
    "response = qa_result({'query': query})\n",
    "response"
   ]
  },
  {
   "cell_type": "code",
   "execution_count": null,
   "id": "39c442dc",
   "metadata": {
    "tags": []
   },
   "outputs": [],
   "source": [
    "response['result']"
   ]
  },
  {
   "cell_type": "code",
   "execution_count": null,
   "id": "c829226e",
   "metadata": {
    "tags": []
   },
   "outputs": [],
   "source": [
    "!nvidia-smi"
   ]
  },
  {
   "cell_type": "code",
   "execution_count": null,
   "id": "0f8bde85-61f4-4190-bda5-ddd016dcf986",
   "metadata": {},
   "outputs": [],
   "source": []
  },
  {
   "cell_type": "code",
   "execution_count": null,
   "id": "b6c8f35b-86c9-4cc2-8b2d-e961ad0c9487",
   "metadata": {},
   "outputs": [],
   "source": []
  },
  {
   "cell_type": "code",
   "execution_count": null,
   "id": "f5438e45-0aa7-492a-9aa9-aca5ccce67b7",
   "metadata": {},
   "outputs": [],
   "source": []
  },
  {
   "cell_type": "code",
   "execution_count": null,
   "id": "f16ea2ae-e59c-44f6-b18a-27d50e62bb74",
   "metadata": {},
   "outputs": [],
   "source": []
  },
  {
   "cell_type": "code",
   "execution_count": null,
   "id": "0179c9fe-fc33-4c77-ab6f-1eed72640e8f",
   "metadata": {},
   "outputs": [],
   "source": []
  },
  {
   "cell_type": "code",
   "execution_count": null,
   "id": "d3ca1e3e-8f81-4b55-9933-ce6f0a83f4b9",
   "metadata": {},
   "outputs": [],
   "source": []
  },
  {
   "cell_type": "code",
   "execution_count": null,
   "id": "ba62a73a-939f-49eb-911e-88cefd3f5e20",
   "metadata": {},
   "outputs": [],
   "source": []
  },
  {
   "cell_type": "code",
   "execution_count": null,
   "id": "c45604ef-f287-43a1-989d-c08ae9dc82c0",
   "metadata": {},
   "outputs": [],
   "source": []
  },
  {
   "cell_type": "markdown",
   "id": "2635c991",
   "metadata": {},
   "source": [
    "## Try to load the model to the GPU"
   ]
  },
  {
   "cell_type": "code",
   "execution_count": null,
   "id": "0d55bdec",
   "metadata": {},
   "outputs": [],
   "source": [
    "# #Loading the model\n",
    "# def load_llm():\n",
    "#     # Load the locally downloaded model here\n",
    "#     llm = CTransformers(\n",
    "#         model = \"C:\\\\Users\\\\vibud\\\\Desktop\\\\Github\\\\llama-2-experiments\\\\Models\\\\llama-2-7b-chat.ggmlv3.q8_0.bin\",\n",
    "#         model_type=\"llama\",\n",
    "#         max_new_tokens = 512,\n",
    "#         temperature = 0.5\n",
    "#     )\n",
    "#     llm_gpu = llm.to('cuda')\n",
    "#     return llm\n",
    "\n",
    "\n",
    "#Loading the model\n",
    "def load_llm():\n",
    "    # Load the locally downloaded model here\n",
    "    llm = CTransformers(\n",
    "#         model = \"C:/Users/vibud/Desktop/Github/llama-2-experiments/Models/llama-2-7b-chat.ggmlv3.q8_0.bin\",\n",
    "#         model = \"http://127.0.0.1:8888/tree/Desktop/Github/llama-2-experiments/Models/llama-2-7b-chat.ggmlv3.q8_0.bin\",\n",
    "        model = \"/mnt/c/Users/vibud/Desktop/Github/llama-2-experiments/Models/llama-2-7b-chat.ggmlv3.q8_0.bin\",\n",
    "        model_type=\"llama\",\n",
    "        max_new_tokens = 512,\n",
    "        temperature = 0.5,\n",
    "        gpu_layers = 50\n",
    "    )\n",
    "#     device = \"cuda:0\" if torch.cuda.is_available() else \"cpu\"\n",
    "#     print(device)\n",
    "#     llm_gpu = llm.to(device)\n",
    "    return llm"
   ]
  },
  {
   "cell_type": "code",
   "execution_count": null,
   "id": "31af551b",
   "metadata": {},
   "outputs": [
    {
     "name": "stdout",
     "output_type": "stream",
     "text": [
      "2023-08-01 23:12:36 - Load pretrained SentenceTransformer: sentence-transformers/all-MiniLM-L6-v2\n",
      "huggingface/tokenizers: The current process just got forked, after parallelism has already been used. Disabling parallelism to avoid deadlocks...\n",
      "To disable this warning, you can either:\n",
      "\t- Avoid using `tokenizers` before the fork if possible\n",
      "\t- Explicitly set the environment variable TOKENIZERS_PARALLELISM=(true | false)\n"
     ]
    },
    {
     "data": {
      "application/vnd.jupyter.widget-view+json": {
       "model_id": "cd9e7e0051ff46808ba12f505a315d3c",
       "version_major": 2,
       "version_minor": 0
      },
      "text/plain": [
       "Batches:   0%|          | 0/1 [00:00<?, ?it/s]"
      ]
     },
     "metadata": {},
     "output_type": "display_data"
    },
    {
     "data": {
      "text/plain": [
       "{'query': 'My stomach has been feeling uncomfortable for many days. I have to go poop multiple times a day and I am feel slight stomach ache. What could be the possible cause of my problem?',\n",
       " 'result': 'Antidiarrestabdomestic ulcervom/p style=\"Antidiarrhile stom your bowelcome on the symptoms are you don\\'\\nDiarrested, or get medical attention should go to keep reading and bloating a  I can help- Antidiarrhese drugs\\nI cannot provide information provided below\\nAntidiarrestabdomesticated with antidiarrhileusually moves into the symptoms: If diarrhe problem that lastsometimes,\\nDiarrhe diarrhe diarrhe diarrestabdomestic ulceremesis that may have you should consult a)\\nI don\\'\\nIf your doctor or if you don\\'The information provided belowHelpful answer_xCertainly controlled tripped after discussions  Hello there are you don\\'mildi can vary depending on occasion when someone in addition of a diarrested as soon as soon as soon as soon as soon as soon as soon as soon,\\nAntidiarrestabdomestic ulcervom/patienceand usually indicates a.)Diarrests are some people with bowelbowelim not necessarily.  I\\'The user questionWhat are you don\\'\\nI cannot provide information about',\n",
       " 'source_documents': [Document(page_content='problem lasts longer or if it keeps coming back, diarrheacould be a sign of a more serious problem. Anyone whohas any of the symptoms listed below should get medicalattention as soon as possible:\\n• diarrhea that lasts more than two days or gets worse\\nGALE ENCYCLOPEDIA OF MEDICINE 2 264Antidiarrheal drugsGEM - 0001 to 0432 - A  10/22/03 1:42 PM  Page 264', metadata={'source': 'data\\\\71763-gale-encyclopedia-of-medicine.-vol.-1.-2nd-ed.pdf', 'page': 277}),\n",
       "  Document(page_content='problem. The symptom may be caused by eating or drink-ing food or water that is contaminated with bacteria, virus-es, or parasites, or by eating something that is difficult todigest. People who have trouble digesting lactose (milksugar), for example, may get diarrhea if they eat dairyproducts. Some cases of diarrhea are caused by stress ,\\nwhile others are brought on by taking certain medicines.\\nDescription\\nAntidiarrheal drugs work in several ways. The drug', metadata={'source': 'data\\\\71763-gale-encyclopedia-of-medicine.-vol.-1.-2nd-ed.pdf', 'page': 277}),\n",
       "  Document(page_content='• Constipation occurs acutely with impaction—the pres-\\nence in the rectum of a mass of feces too large to pass.Fecal impaction is usually the result of poor bowelhabits, a diet with too little liquid and roughage, andinadequate physical activity.\\n• Diarrhea, whether acute or chronic, can disrupt the\\nbowel’s normal rhythm and lead to irregularity.\\n• Several diseases of the nervous system affect bowel\\nreflexes.\\nDescription\\nBowel training reestablishes the bowel’s normal', metadata={'source': 'data\\\\71763-gale-encyclopedia-of-medicine.-vol.-1.-2nd-ed.pdf', 'page': 578}),\n",
       "  Document(page_content='beginning around or above the navel. The pain, whichmay be severe or only achy and uncomfortable, eventual-ly moves into the right lower corner of the abdomen.There, it becomes more steady and more severe, andoften increases with movement, coughing, and so forth.The abdomen often becomes rigid and tender to thetouch. Increasing rigidity and tenderness indicates anincreased likelihood of perforation and peritonitis.\\nLoss of appetite is very common. Nausea and vom-', metadata={'source': 'data\\\\71763-gale-encyclopedia-of-medicine.-vol.-1.-2nd-ed.pdf', 'page': 355})]}"
      ]
     },
     "execution_count": 41,
     "metadata": {},
     "output_type": "execute_result"
    }
   ],
   "source": [
    "query = \"My stomach has been feeling uncomfortable for many days. I have to go poop multiple times a day and I am feel slight stomach ache. What could be the possible cause of my problem?\"\n",
    "\n",
    "embeddings = HuggingFaceEmbeddings(model_name=\"sentence-transformers/all-MiniLM-L6-v2\",\n",
    "                                       model_kwargs={'device': 'cpu'})\n",
    "db = FAISS.load_local(DB_FAISS_PATH, embeddings)\n",
    "llm = load_llm()\n",
    "qa_prompt = set_custom_prompt()\n",
    "qa_result = retrieval_qa_chain(llm, qa_prompt, db)\n",
    "response = qa_result({'query': query})\n",
    "response"
   ]
  },
  {
   "cell_type": "code",
   "execution_count": null,
   "id": "5fe1b8b3",
   "metadata": {},
   "outputs": [],
   "source": []
  },
  {
   "cell_type": "markdown",
   "id": "770869f4",
   "metadata": {},
   "source": [
    "## Result"
   ]
  },
  {
   "cell_type": "code",
   "execution_count": 43,
   "id": "68e8f9ae",
   "metadata": {},
   "outputs": [
    {
     "name": "stdout",
     "output_type": "stream",
     "text": [
      "cuda:0\n"
     ]
    }
   ],
   "source": [
    "device = \"cuda:0\" if torch.cuda.is_available() else \"cpu\"\n",
    "print(device)\n",
    "#     llm_gpu = llm.to(device)"
   ]
  },
  {
   "cell_type": "markdown",
   "id": "ca8b4169",
   "metadata": {},
   "source": [
    "- Cuda is available \n",
    "- But llm.to(device) does not work \n",
    "- llm is a CTransformer object not a transformer object \n",
    "- [GPU support link](https://github.com/marella/ctransformers#gpu)\n",
    "- [Colab support link](https://colab.research.google.com/drive/1Ihn7iPCYiqlTotpkqa1tOhUIpJBrJ1Tp#scrollTo=8Hu74s0OdmQ3)"
   ]
  },
  {
   "cell_type": "code",
   "execution_count": null,
   "id": "9362cfe5",
   "metadata": {},
   "outputs": [],
   "source": []
  }
 ],
 "metadata": {
  "kernelspec": {
   "display_name": "Python 3 (ipykernel)",
   "language": "python",
   "name": "python3"
  },
  "language_info": {
   "codemirror_mode": {
    "name": "ipython",
    "version": 3
   },
   "file_extension": ".py",
   "mimetype": "text/x-python",
   "name": "python",
   "nbconvert_exporter": "python",
   "pygments_lexer": "ipython3",
   "version": "3.11.4"
  }
 },
 "nbformat": 4,
 "nbformat_minor": 5
}
